{
 "cells": [
  {
   "cell_type": "markdown",
   "metadata": {},
   "source": [
    "<img src=\"images/logo.jpg\" style=\"display: block; margin-left: auto; margin-right: auto;\" alt=\"לוגו של מיזם לימוד הפייתון. נחש מצויר בצבעי צהוב וכחול, הנע בין האותיות של שם הקורס: לומדים פייתון. הסלוגן המופיע מעל לשם הקורס הוא מיזם חינמי ללימוד תכנות בעברית.\">"
   ]
  },
  {
   "cell_type": "markdown",
   "metadata": {},
   "source": [
    "# <span style=\"text-align: right; direction: rtl; float: right; clear: both;\"> תרגילים </span> "
   ]
  },
  {
   "cell_type": "markdown",
   "metadata": {},
   "source": [
    "## <span style=\"text-align: right; direction: rtl; float: right; clear: both;\">אין לזה צורה</span> "
   ]
  },
  {
   "cell_type": "markdown",
   "metadata": {},
   "source": [
    "<p style=\"text-align: right; direction: rtl; float: right; clear: both;\">\n",
    "    בתרגיל זה נממש טיפוס חדש מסוג <var dir=\"ltr\">Rectangle</var>, הבנוי משתי נקודות:\n",
    "</p>"
   ]
  },
  {
   "cell_type": "markdown",
   "metadata": {},
   "source": [
    "<ul style=\"text-align: right; direction: rtl; float: right; clear: both;\">\n",
    "    <li>נקודה הממוקמת בחלק השמאלי עליון של המלבן (נקודת ההתחלה <var dir=\"ltr\">start_point</var>).</li>\n",
    "    <li>נקודה הממוקמת בחלק הימני תחתון של המלבן (נקודת הסיום <var dir=\"ltr\">end_point</var>).</li> \n",
    "</ul>"
   ]
  },
  {
   "cell_type": "markdown",
   "metadata": {},
   "source": [
    "<p style=\"text-align: right; direction: rtl; float: right; clear: both;\">\n",
    "    פעולות המלבן הן:\n",
    "</p>\n",
    "\n",
    "<ul style=\"text-align: right; direction: rtl; float: right; clear: both;\">\n",
    "    <li><var>get_surface</var> – מחזירה את שטח המלבן.</li>\n",
    "    <li><var>get_perimeter</var> – מחזירה את היקף המלבן.</li>\n",
    "    <li><var>randomize_start_point</var> – מגרילה שני מספרים בין 1 ל־100 וקובעת אותם כ־x וכ־y של הנקודה השמאלית העליונה.</li>\n",
    "    <li><var>randomize_end_point</var> – מגרילה שני מספרים בין 1 ל־100 וקובעת אותם כ־x וכ־y של הנקודה הימנית התחתונה.</li>\n",
    "    <li><var>filter_by_size</var> – מקבלת רשימת מלבנים ושטח מינימלי של מלבן (<var>threshold</var>). מחזירה את רשימת כל המלבנים ששטחם הוא לפחות <var>threshold</var>.</li>\n",
    "    <li><var>filter_by_perimeter</var> – מקבלת רשימת מלבנים והיקף מינימלי של מלבן (<var>threshold</var>). מחזירה את רשימת כל המלבנים שהיקפם הוא לפחות <var>threshold</var>.</li>\n",
    "</ul>"
   ]
  },
  {
   "cell_type": "markdown",
   "metadata": {},
   "source": [
    "<p style=\"text-align: right; direction: rtl; float: right; clear: both;\">\n",
    "    הדפסת מופע של המלבן צריכה להיראות כך:<br>\n",
    "</p>\n",
    "<p style=\"text-align: left; direction: ltr; float: left; clear: both;\">\n",
    "<samp dir=\"ltr\">### Rectangle ###\n",
    "My Width: 10\n",
    "My Height: 10\n",
    "My Surface: 100\n",
    "My Perimeter: 40\n",
    "</samp>\n",
    "</p>\n"
   ]
  },
  {
   "cell_type": "markdown",
   "metadata": {},
   "source": [
    "<p style=\"text-align: right; direction: rtl; float: right; clear: both;\">\n",
    "    נוסף על הפעולות שהוזכרו מעלה, כתבו פעולה של המחלקה בשם <var>rand_rects</var> המגרילה מספר בין 1 ל־50.<br>\n",
    "    צרו רשימה המכילה מספר מלבנים בהתאם למספר שהוגרל, ועבור כל מלבן הגרילו נקודות על ידי שימוש בפעולות המתאימות.<br>\n",
    "    את כל הצורות הנ\"ל הכניסו לרשימה, והדפיסו את כל הצורות ששטחן גדול מ־900 והיקפן גדול מ־30.</p>"
   ]
  },
  {
   "cell_type": "markdown",
   "metadata": {},
   "source": [
    "## <span style=\"text-align: right; direction: rtl; float: right; clear: both;\">חנות הקומדי</span> "
   ]
  },
  {
   "cell_type": "markdown",
   "metadata": {},
   "source": [
    "<p style=\"text-align: right; direction: rtl; float: right; clear: both;\">בחנות הקומדי יש פריטים (<var>items</var>), ולכל פריט יש מחיר המופיע במחירון שהחנות מחזיקה.<br>\n",
    "    החנות מחזיקה מלאי מכל מוצר, שחלקו מוצב על המדפים וחלקו במחסן.<br>\n",
    "    לחנות יש יתרת מזומנים (<var>balance</var>) שמתעדכנת בהתאם לקניות של הלקוחות ובהתאם לרכש שהחנות מבצעת עבור המלאי.<br>\n",
    "    כתבו מחלקה המייצגת את החנות ובה המתודות הבאות:<br>\n",
    "    <ul style=\"text-align: right; direction: rtl; float: right; clear: both;\">\n",
    "        <li><var>checkout</var> – מקבלת רשימת פריטים לרכישה המיוצגים על ידי מחרוזות, ומחזירה את הסכום לתשלום.<br>\n",
    "            החנות לא מאפשרת מכירה של פריטים שלא נמצאים ברשימת הפריטים בחנות.</li>\n",
    "        <li><var>purchase</var> - מקבלת רשימת פריטים לרכישה וסכום כסף מהלקוח. מבצעת את הקנייה (מעדכנת מלאים ויתרה).<br>\n",
    "            שימו לב שאפשר לרכוש רק אם הפריטים נמצאים במלאי על המדפים. הפעולה תחזיר עודף ללקוח במידת הצורך, ולא תבצע את הקנייה אם התשלום לא מספיק.</li>\n",
    "        <li><var>refill</var> – מעדכנת את המלאי במדפים מתוך המלאי במחסן. החנות יכולה להחזיק על המדף לכל היותר 10 פריטים מכל סוג.</li>\n",
    "        <li><var>restock</var> – מבצעת קנייה של סחורה מהספק. מחיר הרכישה של כל פריט מהספק הוא חצי מהמחיר ללקוח.<br>\n",
    "            הפעולה תעדכן את המלאי במחסן ותחסיר את סכום הכסף המתאים מיתרת המזומנים של החנות.</li>\n",
    "        <li><var>end_of_day</var> – מבצעת סגירת קופה.<br>\n",
    "            מוודאת שהחשבון הנוכחי תואם לכל ההכנסות וההוצאות שהיו ב־12 השעות האחרונות ותואם את שווי המלאים, כדי לוודא שלא נגנבו פריטים.<br>\n",
    "            הפעולה תדפיס דוח של כל התנועות שבוצעו לאורך התקופה – הוצאות והכנסות, הן של מלאי והן של כסף.</li>\n",
    "    </ul>\n",
    "</p> "
   ]
  },
  {
   "cell_type": "code",
   "execution_count": 3,
   "metadata": {},
   "outputs": [],
   "source": [
    " class Items:\n",
    "    def __init__(self, name, price, amount_shelves, amount_warehouse):\n",
    "        self.name = name\n",
    "        self.price = price\n",
    "        self.amount_shelves = amount_shelves \n",
    "        self.amount_warehouse = amount_warehouse"
   ]
  },
  {
   "cell_type": "code",
   "execution_count": 167,
   "metadata": {},
   "outputs": [],
   "source": [
    "class Store:\n",
    "    \n",
    "    def __init__(self, balance, items):\n",
    "        self.balance = balance\n",
    "        self.items = items\n",
    "        self.actions_12_hours = []\n",
    "        self.missing_items = []\n",
    "        self.aditions_items = []\n",
    "        self.initial_balance = balance\n",
    "\n",
    "    \n",
    "    def checkout(self, purchase_items_list):\n",
    "        final_price = 0\n",
    "        for item in self.items:\n",
    "            if item.name in purchase_items_list:\n",
    "                final_price = final_price + item.price\n",
    "        return final_price\n",
    "\n",
    "        \n",
    "    def purchase(self, purchase_items_list, money):\n",
    "        final_price = 0\n",
    "        for item in self.items:\n",
    "            if item.name in purchase_items_list:\n",
    "                if item.amount_shelves > 0:\n",
    "                    final_price = final_price + item.price\n",
    "        if final_price <= money:\n",
    "            change = money - final_price\n",
    "            self.balance = self.balance + final_price\n",
    "            for item in self.items:\n",
    "                if item.name in purchase_items_list:\n",
    "                    item.amount_shelves -= 1\n",
    "                    self.missing_items.append(item)\n",
    "                    self.refill(item)\n",
    "        self.actions_12_hours.append(\"purchase\")\n",
    "        return change\n",
    "    \n",
    "    def refill(self, item):\n",
    "        while item.amount_shelves < 10:\n",
    "            if item.amount_warehouse > 0:\n",
    "                item.amount_warehouse -= 1\n",
    "                item.amount_shelves +=1\n",
    "        self.actions_12_hours.append(\"refill\")\n",
    "\n",
    "    \n",
    "    def restock(self, new_item):\n",
    "        for item in self.items:\n",
    "            if item.name == new_item:\n",
    "                self.balance = self.balance - (item.price/2)\n",
    "                item.amount_warehouse += 1\n",
    "                self.aditions_items.append(item)\n",
    "        self.actions_12_hours.append(\"restock\")\n",
    "        return self.balance\n",
    "    \n",
    "    def end_of_day(self):\n",
    "        #run every 12 hours : from apscheduler.schedulers.blocking import BlockingScheduler\n",
    "        for action in self.actions_12_hours:\n",
    "            print(action)\n",
    "        gap = abs(self.initial_balance - self.balance) #check if the balance is ok\n",
    "        counter_missing_items_price = 0\n",
    "        counter_aditions_items_price = 0\n",
    "        for item in self.missing_items:\n",
    "            counter_missing_items_price += item.price\n",
    "        for item in self.aditions_items:\n",
    "            counter_aditions_items_price += item.price/2\n",
    "        self.actions_12_hours = []\n",
    "        self.missing_items = []\n",
    "        self.aditions_items = []\n",
    "        if gap == abs(counter_missing_items_price - counter_aditions_items_price):\n",
    "            return True\n",
    "        return False      "
   ]
  },
  {
   "cell_type": "code",
   "execution_count": 168,
   "metadata": {},
   "outputs": [
    {
     "name": "stdout",
     "output_type": "stream",
     "text": [
      "<__main__.Store object at 0x000001CC66A754F0>\n",
      "17\n",
      "1042.0\n",
      "refill\n",
      "refill\n",
      "purchase\n",
      "restock\n"
     ]
    },
    {
     "data": {
      "text/plain": [
       "True"
      ]
     },
     "execution_count": 168,
     "metadata": {},
     "output_type": "execute_result"
    }
   ],
   "source": [
    "items = [\n",
    "    Items('Butter', price=1, amount_shelves=10, amount_warehouse=81),\n",
    "    Items('Honey', price=82, amount_shelves=10, amount_warehouse=10),\n",
    "    Items('Flour', price=79, amount_shelves=10, amount_warehouse=8),\n",
    "]\n",
    "\n",
    "purchase_items_list = ['Butter', 'Honey']\n",
    "\n",
    "store2 = Store(1000, items)\n",
    "print(store2)\n",
    "\n",
    "purchase = store2.purchase(purchase_items_list, 100)\n",
    "print(purchase)\n",
    "\n",
    "restock = store2.restock(\"Honey\")\n",
    "print(restock)\n",
    "\n",
    "store2.end_of_day()\n"
   ]
  },
  {
   "cell_type": "code",
   "execution_count": 127,
   "metadata": {},
   "outputs": [
    {
     "name": "stdout",
     "output_type": "stream",
     "text": [
      "<__main__.Store object at 0x000001CC66A8ED00>\n",
      "83\n",
      "10\n",
      "80\n",
      "10\n",
      "9\n",
      "17\n",
      "1042.0\n",
      "1041.5\n"
     ]
    }
   ],
   "source": [
    "items = [\n",
    "    Items('Butter', price=1, amount_shelves=10, amount_warehouse=81),\n",
    "    Items('Honey', price=82, amount_shelves=10, amount_warehouse=10),\n",
    "    Items('Flour', price=79, amount_shelves=10, amount_warehouse=8),\n",
    "]\n",
    "\n",
    "purchase_items_list = ['Butter', 'Honey']\n",
    "\n",
    "store1 = Store(1000, items)\n",
    "print(store1)\n",
    "\n",
    "checkout = store1.checkout(purchase_items_list)\n",
    "print(checkout)\n",
    "\n",
    "purchase = store1.purchase(purchase_items_list, 100)\n",
    "print(purchase)\n",
    "\n",
    "restock = store1.restock(\"Honey\")\n",
    "print(restock)\n",
    "restock = store1.restock(\"Butter\")\n",
    "print(restock)"
   ]
  },
  {
   "cell_type": "markdown",
   "metadata": {},
   "source": [
    "## <span style=\"text-align: right; direction: rtl; float: right; clear: both;\">מגדל קוביות</span> "
   ]
  },
  {
   "cell_type": "markdown",
   "metadata": {},
   "source": [
    "<p style=\"text-align: right; direction: rtl; float: right; clear: both;\">\n",
    "בתרגיל זה נממש שלוש מחלקות: מחלקה של ריבוע, מחלקה של קוביות ומחלקה של מגדל קוביות.</p>"
   ]
  },
  {
   "cell_type": "markdown",
   "metadata": {},
   "source": [
    "### <span style=\"text-align: right; direction: rtl; float: right; clear: both;\">ריבוע</span> "
   ]
  },
  {
   "cell_type": "markdown",
   "metadata": {},
   "source": [
    "<p style=\"text-align: right; direction: rtl; float: right; clear: both;\">\n",
    "    ממשו את מחלקת ריבוע, <var dir=\"ltr\">Square</var>.<br>\n",
    "    פעולת האתחול של המחלקה תקבל פרמטר של אורך, שהוא אורך הצלע של הריבוע.<br>\n",
    "    כפי שוודאי ידוע לכם, בריבוע כל הצלעות זהות באורכן.<br>\n",
    "    ממשו גם את הפעולות <var>get_surface</var> ו־<var>get_perimeter</var> של שטח והיקף כפי שעשיתם בתרגיל הקודם.\n",
    "</p>"
   ]
  },
  {
   "cell_type": "markdown",
   "metadata": {},
   "source": [
    "### <span style=\"text-align: right; direction: rtl; float: right; clear: both;\">קובייה</span> "
   ]
  },
  {
   "cell_type": "markdown",
   "metadata": {},
   "source": [
    "<p style=\"text-align: right; direction: rtl; float: right; clear: both;\">\n",
    "לקובייה יש בסיס (<var>base</var>) שהוא ריבוע, וצבע (<var>color</var>) שהוא צבע הקובייה. הצבע יכול להיות שחור או לבן.<br>\n",
    "ממשו את מחלקת הקובייה, ודאגו להוסיף לה פעולות לחישוב הנפח (<var>get_volume</var>) ושטח המעטפת (<var>get_surface</var>).</p>"
   ]
  },
  {
   "cell_type": "markdown",
   "metadata": {},
   "source": [
    "<p style=\"text-align: right; direction: rtl; float: right; clear: both;\">\n",
    "    הדפסת הקובייה צריכה להיראות כך:\n",
    "</p>\n",
    "<p style=\"text-align: left; direction: ltr; float: left; clear: both;\">\n",
    "<samp>Cube: base-10x10 color:black</samp>\n",
    "</p>"
   ]
  },
  {
   "cell_type": "markdown",
   "metadata": {},
   "source": [
    "### <span style=\"text-align: right; direction: rtl; float: right; clear: both;\">מגדל הקוביות</span> "
   ]
  },
  {
   "cell_type": "markdown",
   "metadata": {},
   "source": [
    "<p style=\"text-align: right; direction: rtl; float: right; clear: both;\">\n",
    "מגדל הקוביות שלנו מכיל רשימת קוביות שמהן הוא מורכב. כשנאתחל את מגדל הקוביות הוא תמיד יכיל 0 קוביות.<br>\n",
    "קובייה יכולה להיות מעל קובייה אחרת רק אם הקובייה התחתונה היא בעלת בסיס עם צלע ארוכה יותר, ורק אם צבעה שונה.\n",
    "</p>"
   ]
  },
  {
   "cell_type": "markdown",
   "metadata": {},
   "source": [
    "<p style=\"text-align: right; direction: rtl; float: right; clear: both;\">\n",
    "הדפסה של מגדל הקוביות תיראה כך:\n",
    "</p>\n",
    "<p style=\"text-align: left; direction: ltr; float: left; clear: both;\">\n",
    "<samp dir=\"ltr\">2-Cube: base-10x10 color:black<br>1-Cube: base-15x15 color:white</samp>\n"
   ]
  },
  {
   "cell_type": "markdown",
   "metadata": {},
   "source": [
    "<p style=\"text-align: right; direction: rtl; float: right; clear: both;\">\n",
    "    ממשו מחלקה בשם <var>CubeTower</var> המייצגת את מגדל הקוביות.\n",
    "</p>"
   ]
  },
  {
   "cell_type": "markdown",
   "metadata": {},
   "source": [
    "<p style=\"text-align: right; direction: rtl; float: right; clear: both;\">\n",
    "    הוסיפו למחלקה פעולה בשם <var dir=\"ltr\">add_cube</var> שמקבלת קובייה ומניחה אותה בראש המגדל אם התנאים שהוזכרו מתקיימים,  אחרת לא עושה כלום.<br>\n",
    "    אם זו הקובייה הראשונה במגדל אפשר להניח אותה ללא שום תנאי.\n",
    "</p>"
   ]
  },
  {
   "cell_type": "markdown",
   "metadata": {},
   "source": [
    "<p style=\"text-align: right; direction: rtl; float: right; clear: both;\">\n",
    "    הוסיפו פעולה נוספת בשם <var dir=\"ltr\">randomize_tower</var> שבוחרת מספר שלם בין 1 ל־100, נקרא לו $N$.<br>\n",
    "    הפעולה תיצור $N$ קוביות שלהן צלע באורך אקראי (עליכם להגריל אורך בין 1 ל־100), שצבען הוא שחור או לבן (בחרו באקראיות).<br>\n",
    "</p>"
   ]
  },
  {
   "cell_type": "markdown",
   "metadata": {},
   "source": [
    "<p style=\"text-align: right; direction: rtl; float: right; clear: both;\">\n",
    "    צרו בלולאה 1,000 מגדלים ומלאו אותם בקוביות באמצעות המתודה המגרילה.<br>\n",
    "    מהו המגדל הגבוה ביותר שקיבלתם?\n",
    "</p>"
   ]
  },
  {
   "cell_type": "markdown",
   "metadata": {},
   "source": [
    "## <span style=\"text-align: right; direction: rtl; float: right; clear: both;\">נקמת הסט</span>"
   ]
  },
  {
   "cell_type": "markdown",
   "metadata": {},
   "source": [
    "### <span style=\"text-align: right; direction: rtl; float: right; clear: both;\">חלק 1</span>"
   ]
  },
  {
   "cell_type": "markdown",
   "metadata": {},
   "source": [
    "<p style=\"text-align: right; direction: rtl; float: right; clear: both;\">\n",
    "    ממשו משחק סט סטנדרטי.<br>\n",
    "    המשחק יציג למשתמש 12 קלפי סט מתוך חפיסה מעורבבת של 81 קלפים, ויאפשר למשתמש לבחור אילו 3 קלפים מייצגים סט.\n",
    "</p>"
   ]
  },
  {
   "cell_type": "markdown",
   "metadata": {},
   "source": [
    "<p style=\"text-align: right; direction: rtl; float: right; clear: both;\">\n",
    "    אם בחר המשתמש סט תקין, החליפו את שלושת הקלפים שבחר בקלפים הבאים בחפיסה.<br>\n",
    "    אם בחר סט שגוי, הדפיסו הודעת שגיאה.<br>\n",
    "    אם אי אפשר להרכיב סט מהקלפים שנפתחו, החזירו את הקלפים לחפיסה, טרפו אותה ופתחו 12 קלפים חדשים.<br>\n",
    "    בכל שלב, אם אין בחפיסה די קלפים לפתיחה – פתחו את הקלפים שנותרו בחפיסה.<br>\n",
    "    השחקן ניצח כאשר אי אפשר ליצור יותר סטים מהקלפים הנמצאים בחפיסה.<br>\n",
    "    שימו לב שכאשר נותרו 21 קלפים, בהכרח ישנם 3 קלפים מתוכם שמרכיבים סט.\n",
    "</p>"
   ]
  },
  {
   "cell_type": "markdown",
   "metadata": {},
   "source": [
    "<p style=\"text-align: right; direction: rtl; float: right; clear: both;\">\n",
    "    השתמשו במחלקות.\n",
    "</p>"
   ]
  },
  {
   "cell_type": "code",
   "execution_count": 45,
   "metadata": {},
   "outputs": [],
   "source": [
    "import itertools\n",
    "import random\n",
    "\n",
    "class Set:\n",
    "    def __init__(self):\n",
    "        self.cards_pack = self.build_pack()\n",
    "        self.cards_atrributes_values = {\n",
    "            \"color\": ['green', 'red', 'purple'],\n",
    "            \"shape\": ['oval', 'diamond', 'squiggle'],\n",
    "            \"number\": [1,2,3],\n",
    "            \"shade\": ['filled','shaded', 'empty']\n",
    "        }\n",
    "        table = self.build_new_table_12_cards() #לפתוח 12 קלפים מהחפיסה\n",
    "        self.start_check(table)\n",
    "    \n",
    "    def start_check(self, table):\n",
    "        self.game_play(table)\n",
    "        \n",
    "        \n",
    "    def game_play(self, table):\n",
    "        if self.check_if_atleast_one_set_on_table(table): #לבדוק האם יש סט על השולחן\n",
    "            three_picked = self.pick_three_cards(table) #נבחר שלושה קלפים\n",
    "            if self.set_check(three_picked): #אם זה סט\n",
    "                for card in three_picked:\n",
    "                    table.remove(card) #נוציא מהשולחן הצידה\n",
    "                if self.cards_pack == 0: #אם החפיסה ריקה\n",
    "                    if check_if_atleast_one_set_on_table(table): #יש עוד סט להמשיך\n",
    "                        self.start_check(table)\n",
    "                    else:\n",
    "                        print(\"win!!!\")\n",
    "                else:\n",
    "                    self.add_cards_to_table(table) #נשלים עד ל12 מהחפיסה\n",
    "                    self.start_check(table) #תתחיל לבדוק שוב\n",
    "            else:\n",
    "                print(\"Error\") #אם זה לא סט תדפיס הודעת שגיאה\n",
    "        else:\n",
    "            self.suffle_again(table) # אם לא נחזיר לחפיסה ונערבב שוב את הכל  \n",
    "            table = self.build_new_table_12_cards() # ונבחר שוב 12 קלפים\n",
    "            self.start_check(table) #תתחיל לבדוק שוב\n",
    "    \n",
    "    def build_pack(self):\n",
    "        a = [[\"rhombus\",\"tilde\",\"ellipse\"],[\"solid\",\"striped\", \"blank\"],[\"red\", \"purple\", \"green\"],[\"1\",\"2\",\"3\"]]\n",
    "        pack = list(itertools.product(*a))\n",
    "        l_pack = []\n",
    "        for card in pack:\n",
    "            l_pack.append(\n",
    "                {\n",
    "                \"shape\" : card[0],\n",
    "                \"filling\" : card[1],\n",
    "                \"color\" : card[2],\n",
    "                \"amount\" : card[3]\n",
    "                }\n",
    "            )\n",
    "        random.shuffle(l_pack)\n",
    "        return l_pack\n",
    "                \n",
    "    def build_new_table_12_cards(self):\n",
    "        table = random.sample(self.cards_pack, k=12)\n",
    "        return table\n",
    "        \n",
    "        \n",
    "    def add_cards_to_table(self, table):\n",
    "        cards_added_to_table = [] \n",
    "        cards_added_to_table = random.sample(self.cards_pack, k=3)\n",
    "        table.extend(ards_added_to_table)\n",
    "        cards_added_to_table = []       \n",
    "        \n",
    "    def check_if_atleast_one_set_on_table(self, table): #privios namee : optional_sets\n",
    "        all_options_three_cards_on_table = list(itertools.combinations(table,3))\n",
    "        for three_cards in all_options_three_cards_on_table:\n",
    "            if self.set_check(three_cards) == True:\n",
    "                return True\n",
    "        return False      \n",
    "            \n",
    "    def suffle_again(self, table):\n",
    "        self.cards_pack.extend(table)\n",
    "        random.shuffle(self.cards_pack)\n",
    "        \n",
    "    def pick_three_cards(self, table):\n",
    "        three_picked = random.sample(table, k=3)\n",
    "        return three_picked\n",
    " \n",
    "             \n",
    "    #def set_check(self, three_cards):\n",
    "        #if (((three_cards[0][\"shape\"] == three_cards[1][\"shape\"]) and (three_cards[1][\"shape\"] == three_cards[2][\"shape\"])) or ((three_cards[0][\"shape\"] != three_cards[1][\"shape\"]) and (three_cards[1][\"shape\"] != three_cards[2][\"shape\"]))):\n",
    "            #if (((three_cards[0][\"filling\"] == three_cards[1][\"filling\"]) and (three_cards[1][\"filling\"] == three_cards[2][\"filling\"])) or ((three_cards[0][\"filling\"] != three_cards[1][\"filling\"]) and (three_cards[1][\"filling\"] != three_cards[2][\"filling\"]))):\n",
    "                #if (((three_cards[0][\"color\"] == three_cards[1][\"color\"]) and (three_cards[1][\"color\"] == three_cards[2][\"color\"])) or ((three_cards[0][\"color\"] != three_cards[1][\"color\"]) and (three_cards[1][\"color\"] != three_cards[2][\"color\"]))):\n",
    "                    #if (((three_cards[0][\"amount\"] == three_cards[1][\"amount\"]) and (three_cards[1][\"amount\"] == three_cards[2][\"amount\"])) or ((three_cards[0][\"amount\"] != three_cards[1][\"amount\"]) and (three_cards[1][\"amount\"] != three_cards[2][\"amount\"]))):\n",
    "                        #return True\n",
    "        #return False\n",
    "    \n",
    "    def set_check(self, three_cards):\n",
    "        card1 = three_cards[0]\n",
    "        card2 = three_cards[1]\n",
    "        card3 = three_cards[2]\n",
    "        attributes = self.cards_atrributes_values.keys()\n",
    "        is_set = True\n",
    "        for attr in attributes:\n",
    "            curr_attr_set_valid = self.is_attr_set_valid(card1.get(attr), card2.get(attr), card3.get(attr))\n",
    "            is_set *= curr_attr_set_valid\n",
    "        if is_set:\n",
    "            print(f'Card1: {card1},\\n Card2: {card2},\\n Card3: {card3}\\n')\n",
    "        return is_set\n",
    "\n",
    "    def is_attr_set_valid(self ,attr1, attr2, attr3):\n",
    "        return (self.all_attr_vals_equal(attr1, attr2, attr3) or self.all_attr_vals_different(attr1, attr2, attr3))\n",
    "\n",
    "    def all_attr_vals_equal(self, attr1, attr2, attr3):\n",
    "        return (attr1 == attr2) and (attr2 == attr3) \n",
    "\n",
    "\n",
    "    def all_attr_vals_different(self, attr1, attr2, attr3):\n",
    "        return (attr1 != attr2) and (attr1 != attr3) and (attr2 != attr3)"
   ]
  },
  {
   "cell_type": "code",
   "execution_count": 46,
   "metadata": {},
   "outputs": [
    {
     "name": "stdout",
     "output_type": "stream",
     "text": [
      "Card1: {'shape': 'rhombus', 'filling': 'striped', 'color': 'red', 'amount': '3'},\n",
      " Card2: {'shape': 'ellipse', 'filling': 'solid', 'color': 'red', 'amount': '3'},\n",
      " Card3: {'shape': 'tilde', 'filling': 'solid', 'color': 'red', 'amount': '2'}\n",
      "\n",
      "Error\n",
      "<__main__.Set object at 0x00000183930EC520>\n"
     ]
    }
   ],
   "source": [
    "new_set_game = Set()\n",
    "print(new_set_game)\n"
   ]
  },
  {
   "cell_type": "markdown",
   "metadata": {},
   "source": [
    "### <span style=\"text-align: right; direction: rtl; float: right; clear: both;\">חלק 2</span>"
   ]
  },
  {
   "cell_type": "markdown",
   "metadata": {},
   "source": [
    "<ol style=\"text-align: right; direction: rtl; float: right; clear: both;\">\n",
    "    <li>השתמשו בספרייה חיצונית כדי להדפיס למשתמש את הקלפים בצורה צבעונית.</li>\n",
    "    <li>ממשו מצב \"פרנזי\" שבו יש זמן מוקצב של 3 דקות למציאת כמה שיותר סטים.<br>\n",
    "        החוקים זהים לחוקים של משחק סט רגיל, רק שהפעם בכל פעם שמוצאים סט, הוא מתווסף חזרה לחפיסה, החפיסה מתערבבת ונפתחים שלושה קלפים חדשים.<br>\n",
    "        מציאה של סט מוסיפה 5 שניות לשעון.</li>\n",
    "    <li>ממשו לוח ניקוד עבור מצב הפרנזי. השתמשו בקבצים כדי לשמור את שם המשתתף, הניקוד שלו והתאריך שבו הוא השיג את הניקוד.</li>\n",
    "</ol>"
   ]
  },
  {
   "cell_type": "code",
   "execution_count": null,
   "metadata": {},
   "outputs": [],
   "source": []
  }
 ],
 "metadata": {
  "kernelspec": {
   "display_name": "Python 3",
   "language": "python",
   "name": "python3"
  },
  "language_info": {
   "codemirror_mode": {
    "name": "ipython",
    "version": 3
   },
   "file_extension": ".py",
   "mimetype": "text/x-python",
   "name": "python",
   "nbconvert_exporter": "python",
   "pygments_lexer": "ipython3",
   "version": "3.8.5"
  }
 },
 "nbformat": 4,
 "nbformat_minor": 2
}
