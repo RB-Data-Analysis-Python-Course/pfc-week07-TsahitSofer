{
 "cells": [
  {
   "cell_type": "markdown",
   "metadata": {},
   "source": [
    "<img src=\"images/logo.jpg\" style=\"display: block; margin-left: auto; margin-right: auto;\" alt=\"לוגו של מיזם לימוד הפייתון. נחש מצויר בצבעי צהוב וכחול, הנע בין האותיות של שם הקורס: לומדים פייתון. הסלוגן המופיע מעל לשם הקורס הוא מיזם חינמי ללימוד תכנות בעברית.\">"
   ]
  },
  {
   "cell_type": "markdown",
   "metadata": {},
   "source": [
    "# <span style=\"text-align: right; direction: rtl; float: right;\">מחלקות</span>"
   ]
  },
  {
   "cell_type": "markdown",
   "metadata": {},
   "source": [
    "## <span style=\"text-align: right; direction: rtl; float: right; clear: both;\">הקדמה</span>"
   ]
  },
  {
   "cell_type": "markdown",
   "metadata": {},
   "source": [
    "<p style=\"text-align: right; direction: rtl; float: right; clear: both;\">\n",
    "    בוקר חדש, השמש הפציעה והחלטתם שצברתם מספיק ידע בקורס כדי לפתוח רשת חברתית משלכם, בשם צ'יקצ'וק.<br>\n",
    "    אתם משליכים את מחברות הפייתון מהחלון ומתחילים לתכנת במרץ את המערכת שתעזור לכם לנהל את המשתמשים.\n",
    "</p>"
   ]
  },
  {
   "cell_type": "markdown",
   "metadata": {},
   "source": [
    "<p style=\"text-align: right; direction: rtl; float: right; clear: both;\">\n",
    "    לכל משתמש יש את התכונות הבאות:\n",
    "</p>"
   ]
  },
  {
   "cell_type": "markdown",
   "metadata": {},
   "source": [
    "<ul style=\"text-align: right; direction: rtl; float: right; clear: both;\">\n",
    "    <li>שם פרטי</li>\n",
    "    <li>שם משפחה</li>\n",
    "    <li>כינוי</li>\n",
    "    <li>גיל</li>\n",
    "</ul>"
   ]
  },
  {
   "cell_type": "markdown",
   "metadata": {},
   "source": [
    "<div class=\"align-center\" style=\"display: flex; text-align: right; direction: rtl; clear: both;\">\n",
    "    <div style=\"display: flex; width: 10%; float: right; clear: both;\">\n",
    "        <img src=\"images/exercise.svg\" style=\"height: 50px !important;\" alt=\"תרגול\"> \n",
    "    </div>\n",
    "    <div style=\"width: 70%\">\n",
    "        <p style=\"text-align: right; direction: rtl; float: right; clear: both;\">\n",
    "            בחרו סוג משתנה שיאפשר לכם לאחסן בנוחות את הנתונים הללו.<br>\n",
    "            צרו שני משתמשים לדוגמה, והשתמשו בסוג המשתנה שבחרתם.\n",
    "        </p>\n",
    "    </div>\n",
    "    <div style=\"display: flex; width: 20%; border-right: 0.1rem solid #A5A5A5; padding: 1rem 2rem;\">\n",
    "        <p style=\"text-align: center; direction: rtl; justify-content: center; align-items: center; clear: both;\">\n",
    "            <strong>חשוב!</strong><br>\n",
    "            פתרו לפני שתמשיכו!\n",
    "        </p>\n",
    "    </div>\n",
    "</div>"
   ]
  },
  {
   "cell_type": "code",
   "execution_count": null,
   "metadata": {},
   "outputs": [],
   "source": [
    "[{\"first_name\":\"Tsahit\", \"last_name\" : \"Sofer\", \"nickname\" : \"Tsah\", \"age\":26},\n",
    " {\"first_name\":\"Eyal\", \"last_name\" : \"Malka\", \"nickname\" : \"Eyalilu\", \"age\":25}]"
   ]
  },
  {
   "cell_type": "markdown",
   "metadata": {},
   "source": [
    "<p style=\"text-align: right; direction: rtl; float: right; clear: both;\">\n",
    "    לפני שנציג את פתרון השאלה, נעמיק מעט ברעיון הכללי שעומד מאחורי הדוגמה הזו.<br>\n",
    "    <mark>כל משתמש שניצור הוא מעין אסופת תכונות</mark> – במקרה שלנו התכונות הן שם פרטי, שם משפחה, כינוי וגיל.<br>\n",
    "    לכל תכונה יהיה ערך המתאים לה, ויחד הערכים הללו יצרו משתמש אחד.\n",
    "</p>"
   ]
  },
  {
   "cell_type": "markdown",
   "metadata": {},
   "source": [
    "<p style=\"text-align: right; direction: rtl; float: right; clear: both;\">\n",
    "    נמצא עוד דוגמאות לאסופות תכונות שכאלו:\n",
    "</p>\n",
    "\n",
    "<ul style=\"text-align: right; direction: rtl; float: right; clear: both;\">\n",
    "    <li>תכונותיו של שולחן הן גובה, מספר רגליים, צבע, אורך ורוחב.</li>\n",
    "    <li>תכונותיה של נורה הן צבע ומצב (דולקת או כבויה).</li>\n",
    "    <li>תכונותיו של תרגיל בקורס הן השבוע והמחברת שבהן הוא הופיע, כותרת והוראות התרגיל.</li>\n",
    "    <li>תכונותיו של שיר הן מילות השיר, האומנים שהשתתפו ביצירתו ואורכו.</li>\n",
    "</ul>"
   ]
  },
  {
   "cell_type": "markdown",
   "metadata": {},
   "source": [
    "<div class=\"align-center\" style=\"display: flex; text-align: right; direction: rtl; clear: both;\">\n",
    "    <div style=\"display: flex; width: 10%; float: right; clear: both;\">\n",
    "        <img src=\"images/exercise.svg\" style=\"height: 50px !important;\" alt=\"תרגול\"> \n",
    "    </div>\n",
    "    <div style=\"width: 70%\">\n",
    "        <p style=\"text-align: right; direction: rtl; float: right; clear: both;\">\n",
    "            חשבו על עוד 3 דוגמאות לעצמים שאפשר לתאר כערכים עם אסופת תכונות.\n",
    "        </p>\n",
    "    </div>\n",
    "    <div style=\"display: flex; width: 20%; border-right: 0.1rem solid #A5A5A5; padding: 1rem 2rem;\">\n",
    "        <p style=\"text-align: center; direction: rtl; justify-content: center; align-items: center; clear: both;\">\n",
    "            <strong>חשוב!</strong><br>\n",
    "            פתרו לפני שתמשיכו!\n",
    "        </p>\n",
    "    </div>\n",
    "</div>"
   ]
  },
  {
   "cell_type": "markdown",
   "metadata": {},
   "source": [
    "<p style=\"text-align: right; direction: rtl; float: right; clear: both;\">\n",
    "    ניצור שני משתמשים לדוגמה לפי תכונותיהם שהוצגו לעיל:\n",
    "</p>"
   ]
  },
  {
   "cell_type": "code",
   "execution_count": null,
   "metadata": {},
   "outputs": [],
   "source": [
    "user1 = {\n",
    "    'first_name': 'Christine',\n",
    "    'last_name': 'Daaé',\n",
    "    'nickname': 'Little Lotte',\n",
    "    'age': 20,\n",
    "}\n",
    "user2 = {\n",
    "    'first_name': 'Elphaba',\n",
    "    'last_name': 'Thropp',\n",
    "    'nickname': 'Elphie',\n",
    "    'age': 19,\n",
    "}"
   ]
  },
  {
   "cell_type": "markdown",
   "metadata": {},
   "source": [
    "<p style=\"text-align: right; direction: rtl; float: right; clear: both;\">\n",
    "    תוכלו ליצור בעצמכם פונקציה שיוצרת משתמש חדש?<br>\n",
    "    זה לא מסובך מדי:\n",
    "</p>"
   ]
  },
  {
   "cell_type": "code",
   "execution_count": 1,
   "metadata": {},
   "outputs": [
    {
     "name": "stdout",
     "output_type": "stream",
     "text": [
      "{'first_name': 'Bayta', 'last_name': 'Darell', 'nickname': 'Bay', 'age': 24}\n"
     ]
    }
   ],
   "source": [
    "def create_user(first_name, last_name, nickname, current_age):\n",
    "    return {\n",
    "        'first_name': first_name,\n",
    "        'last_name': last_name,\n",
    "        'nickname': nickname,\n",
    "        'age': current_age,\n",
    "    }\n",
    "\n",
    "\n",
    "# נקרא לפונקציה כדי לראות שהכל עובד כמצופה\n",
    "new_user = create_user('Bayta', 'Darell', 'Bay', 24)\n",
    "print(new_user)"
   ]
  },
  {
   "cell_type": "markdown",
   "metadata": {},
   "source": [
    "<p style=\"text-align: right; direction: rtl; float: right; clear: both;\">\n",
    "    <mark>נוכל גם לממש פונקציות שיעזרו לנו לבצע פעולות על כל אחד מהמשתמשים.</mark><br>\n",
    "    לדוגמה: הפונקציה <var>describe_as_a_string</var> תקבל משתמש ותחזיר לנו מחרוזת שמתארת אותו,<br>\n",
    "    והפונקציה <var>celeberate_birthday</var> תקבל משתמש ותגדיל את גילו ב־1:\n",
    "</p>"
   ]
  },
  {
   "cell_type": "code",
   "execution_count": 2,
   "metadata": {},
   "outputs": [
    {
     "name": "stdout",
     "output_type": "stream",
     "text": [
      "Bay (Bayta Darell) is 24 years old.\n",
      "--- After birthday\n",
      "Bay (Bayta Darell) is 25 years old.\n"
     ]
    }
   ],
   "source": [
    "def describe_as_a_string(user):\n",
    "    first_name = user['first_name']\n",
    "    last_name = user['last_name']\n",
    "    full_name = f'{first_name} {last_name}'\n",
    "    nickname = user['nickname']\n",
    "    age = user['age']\n",
    "    return f'{nickname} ({full_name}) is {age} years old.'\n",
    "\n",
    "\n",
    "def celebrate_birthday(user):\n",
    "    user['age'] = user['age'] + 1\n",
    "\n",
    "\n",
    "print(describe_as_a_string(new_user))\n",
    "celebrate_birthday(new_user)\n",
    "print(\"--- After birthday\")\n",
    "print(describe_as_a_string(new_user))"
   ]
  },
  {
   "cell_type": "markdown",
   "metadata": {},
   "source": [
    "<div class=\"align-center\" style=\"display: flex; text-align: right; direction: rtl;\">\n",
    "    <div style=\"display: flex; width: 10%; float: right; \">\n",
    "        <img src=\"images/recall.svg\" style=\"height: 50px !important;\" alt=\"תזכורת\" title=\"תזכורת\"> \n",
    "    </div>\n",
    "    <div style=\"width: 90%\">\n",
    "        <p style=\"text-align: right; direction: rtl;\">\n",
    "            הצלחנו לערוך את ערכו של <code>user['age']</code> מבלי להחזיר ערך, כיוון שמילונים הם mutable.<br>\n",
    "            אם זה נראה לכם מוזר, חזרו למחברת על mutability ו־immutability.\n",
    "        </p>\n",
    "    </div>\n",
    "</div>"
   ]
  },
  {
   "cell_type": "markdown",
   "metadata": {},
   "source": [
    "<p style=\"text-align: right; direction: rtl; float: right; clear: both;\">\n",
    "    בשלב הזה בתוכניתנו קיימות קבוצת פונקציות שמטרתן היא ניהול של משתמשים ושל תכונותיהם.<br>\n",
    "</p>"
   ]
  },
  {
   "cell_type": "markdown",
   "metadata": {},
   "source": [
    "<p style=\"text-align: right; direction: rtl; float: right; clear: both;\">\n",
    "    נוכל להוסיף למשתמש תכונות נוספות, כמו דוא\"ל ומשקל, לדוגמה,<br>\n",
    "    או להוסיף לו פעולות שיהיה אפשר לבצע עליו, כמו הפעולה <var>eat_bourekas</var>, שמוסיפה לתכונת המשקל של המשתמש חצי קילו.<br>\n",
    "</p>"
   ]
  },
  {
   "cell_type": "markdown",
   "metadata": {},
   "source": [
    "### <span style=\"text-align: right; direction: rtl; float: right; clear: both;\">חסרונות</span>"
   ]
  },
  {
   "cell_type": "markdown",
   "metadata": {},
   "source": [
    "<p style=\"text-align: right; direction: rtl; float: right; clear: both;\">\n",
    "    אף על פי שהרעיון נחמד, ככל שנרבה להוסיף פעולות ותכונות, תגבר תחושת האי־סדר שאופפת את הקוד הזה.<br>\n",
    "    קל לראות שהקוד שכתבנו מפוזר על פני פונקציות רבות בצורה לא מאורגנת.<br>\n",
    "    במילים אחרות – אין אף מבנה בקוד שתחתיו מאוגדות כל הפונקציות והתכונות ששייכות לטיפול במשתמש.\n",
    "</p>"
   ]
  },
  {
   "cell_type": "markdown",
   "metadata": {},
   "source": [
    "<p style=\"text-align: right; direction: rtl; float: right; clear: both;\">\n",
    "    הבעיה תצוף כשנרצה להוסיף לתוכנה שלנו עוד מבנים שכאלו.<br>\n",
    "    לדוגמה, כשנרצה להוסיף לצ'יקצ'וק יכולת לניהול סרטונים – שתכונותיהם אורך סרטון ומספר לייקים, והפעולה עליהם היא היכולת לעשות Like לסרטון.<br>\n",
    "    הקוד לניהול המשתמש והקוד לניהול הסרטונים עלולים להתערבב, יווצרו תלויות ביניהם וחוויית ההתמצאות בקוד תהפוך ללא נעימה בעליל.<br>\n",
    "</p>"
   ]
  },
  {
   "cell_type": "markdown",
   "metadata": {},
   "source": [
    "<p style=\"text-align: right; direction: rtl; float: right; clear: both;\">\n",
    "    החוסר באיגוד התכונות והפונקציות אף מקשה על הקורא להבין לאן שייכות כל אחת מהתכונות והפונקציות, ומה תפקידן בקוד.<br>\n",
    "    מי שמסתכל על הקוד שלנו לא יכול להבין מייד ש־<var>describe_as_a_string</var> מיועדת לפעול רק על מבנים שנוצרו מ־<var>create_user</var>.<br>\n",
    "    הוא עלול לנסות להכניס מבנים אחרים ולהקריס את התוכנית, או גרוע מכך – להיתקל בבאגים בעתיד, בעקבות שימוש לא נכון בפונקציה.\n",
    "</p>"
   ]
  },
  {
   "cell_type": "markdown",
   "metadata": {},
   "source": [
    "## <span style=\"text-align: right; direction: rtl; float: right; clear: both;\">הגדרה</span>"
   ]
  },
  {
   "cell_type": "markdown",
   "metadata": {},
   "source": [
    "<p style=\"text-align: right; direction: rtl; float: right; clear: both;\">\n",
    "    במהלך המחברת ראינו דוגמאות למבנים שהגדרנו <mark>כאוספים של תכונות ושל פעולות</mark>.<br>\n",
    "    משתמש באפליקציית צ'יקצ'וק, לדוגמה, מורכב מהתכונות שם פרטי, שם משפחה, כינוי וגיל, ומהפעולות \"חגוג יום הולדת\" ו\"תאר כמחרוזת\".<br>\n",
    "    נורה עשויה להיות מורכבת מהתכונות צבע ומצב (דולקת או לא), ומהפעולות \"הדלק נורה\" ו\"כבה נורה\".<br>\n",
    "</p>"
   ]
  },
  {
   "cell_type": "markdown",
   "metadata": {},
   "source": [
    "<p style=\"text-align: right; direction: rtl; float: right; clear: both;\">\n",
    "    <dfn>מחלקה</dfn> היא דרך לתאר לפייתון אוסף כזה של תכונות ושל פעולות, ולאגד אותן תחת מבנה אחד.<br>\n",
    "    אחרי שתיארנו בעזרת מחלקה אילו תכונות ופעולות מאפיינות עצם מסוים, נוכל להשתמש בה כדי לייצר כמה עצמים כאלו שנרצה.<br> \n",
    "</p>"
   ]
  },
  {
   "cell_type": "markdown",
   "metadata": {},
   "source": [
    "<p style=\"text-align: right; direction: rtl; float: right; clear: both;\">\n",
    "    נדמיין מחלקה כמו שבלונה – <mark>תבנית</mark> שמתארת אילו תכונות ופעולות מאפיינות סוג עצם מסוים.<br>\n",
    "    מחלקה שעוסקת במשתמשים, לדוגמה, תתאר עבור פייתון מאילו תכונות ופעולות מורכב כל משתמש.<br>\n",
    "</p>"
   ]
  },
  {
   "cell_type": "markdown",
   "metadata": {},
   "source": [
    "<figure>\n",
    "    <img src=\"images/user_class.svg?v=1\" style=\"max-width: 650px; margin-right: auto; margin-left: auto; text-align: center;\" alt=\"במרכז התמונה ניצבת צללית של אדם (משתמש). בצד ימין שלו יש תיבה עם הכותרת 'תכונות', ובתוכה המילים 'שם פרטי', 'שם משפחה', 'כינוי' ו'גיל'. בצד שמאל שלו יש תיבה נוספת הנושאת את הכותרת 'פעולות', ובתוכה המילים 'חגוג יום הולדת' ו'תאר משתמש'.\"/>\n",
    "    <figcaption style=\"margin-top: 2rem; text-align: center; direction: rtl;\">איור המתאר את התכונות ואת הפעולות השייכות למחלקה \"משתמש\".</figcaption>\n",
    "</figure>"
   ]
  },
  {
   "cell_type": "markdown",
   "metadata": {},
   "source": [
    "<p style=\"text-align: right; direction: rtl; float: right; clear: both;\">\n",
    "    בעזרת אותה מחלקת משתמשים (או שבלונת משתמשים, אם תרצו), נוכל ליצור משתמשים רבים.<br>\n",
    "    כל משתמש שניצור באמצעות השבלונה ייקרא \"<dfn>מופע</dfn>\" (או <dfn>Instance</dfn>) – יחידה אחת, עצמאית, שמכילה את התכונות והפעולות שתיארנו.<br>\n",
    "    אנחנו נשתמש במחלקה שוב ושוב כדי ליצור כמה משתמשים שנרצה, בדיוק כמו שנשתמש בשבלונה.\n",
    "</p>"
   ]
  },
  {
   "cell_type": "markdown",
   "metadata": {},
   "source": [
    "<p style=\"text-align: right; direction: rtl; float: right; clear: both;\">\n",
    "    יש עוד הרבה מה להגיד והרבה מה להגדיר, אבל נשמע שמתחתי אתכם מספיק.<br>\n",
    "    בואו ניגש לקוד!\n",
    "</p>"
   ]
  },
  {
   "cell_type": "markdown",
   "metadata": {},
   "source": [
    "## <span style=\"text-align: right; direction: rtl; float: right; clear: both;\">יצירת מחלקות</span>"
   ]
  },
  {
   "cell_type": "markdown",
   "metadata": {},
   "source": [
    "### <span style=\"text-align: right; direction: rtl; float: right; clear: both;\">מחלקה בסיסית</span>"
   ]
  },
  {
   "cell_type": "markdown",
   "metadata": {},
   "source": [
    "<p style=\"text-align: right; direction: rtl; float: right; clear: both;\">\n",
    "    ראשית, ניצור את המחלקה הפשוטה ביותר שאנחנו יכולים לבנות, ונקרא לה <var>User</var>.<br>\n",
    "    בהמשך המחברת נרחיב את המחלקה, והיא תהיה זו שמטפלת בכל הקשור במשתמשים של צ'יקצ'וק:\n",
    "</p>"
   ]
  },
  {
   "cell_type": "code",
   "execution_count": 3,
   "metadata": {},
   "outputs": [],
   "source": [
    "class User:\n",
    "    pass"
   ]
  },
  {
   "cell_type": "markdown",
   "metadata": {},
   "source": [
    "<div class=\"align-center\" style=\"display: flex; text-align: right; direction: rtl;\">\n",
    "    <div style=\"display: flex; width: 10%; float: right; \">\n",
    "        <img src=\"images/recall.svg\" style=\"height: 50px !important;\" alt=\"תזכורת\" title=\"תזכורת\"> \n",
    "    </div>\n",
    "    <div style=\"width: 90%\">\n",
    "        <p style=\"text-align: right; direction: rtl;\">\n",
    "            ניסינו ליצור את המבנה הכי קצר שאפשר, אבל <code>class</code> חייב להכיל קוד.<br>\n",
    "            כדי לעקוף את המגבלה הזו, השתמשנו במילת המפתח <code>pass</code>, שאומרת לפייתון \"אל תעשי כלום\".\n",
    "        </p>\n",
    "    </div>\n",
    "</div>"
   ]
  },
  {
   "cell_type": "markdown",
   "metadata": {},
   "source": [
    "<p style=\"text-align: right; direction: rtl; float: right; clear: both;\">\n",
    "    בקוד שלמעלה השתמשנו במילת המפתח <code>class</code> כדי להצהיר על מחלקה חדשה.<br>\n",
    "    מייד לאחר מכן ציינו את שם המחלקה שאנחנו רוצים ליצור – <var>User</var> במקרה שלנו.<br>\n",
    "    שם המחלקה נתון לחלוטין לבחירתנו, והמילה <var>User</var> לא אומרת לפייתון שום דבר מיוחד. באותה המידה יכולנו לבחור כל שם אחר.\n",
    "</p>"
   ]
  },
  {
   "cell_type": "markdown",
   "metadata": {},
   "source": [
    "<p style=\"text-align: right; direction: rtl; float: right; clear: both;\">\n",
    "    הדבר שחשוב לזכור הוא שהמחלקה היא <em>לא</em> המשתמש עצמו, אלא רק השבלונה שלפיה פייתון תבנה את המשתמש.<br>\n",
    "    אמנם כרגע המחלקה <var>User</var> ריקה ולא מתארת כלום, אבל פייתון עדיין תדע ליצור משתמש חדש אם נבקש ממנה לעשות זאת.<br>\n",
    "    נבקש מהמחלקה ליצור עבורנו משתמש חדש. נקרא לה בשמה ונוסיף סוגריים, בדומה לקריאה לפונקציה:\n",
    "</p>"
   ]
  },
  {
   "cell_type": "code",
   "execution_count": 4,
   "metadata": {},
   "outputs": [],
   "source": [
    "user1 = User()"
   ]
  },
  {
   "cell_type": "markdown",
   "metadata": {},
   "source": [
    "<p style=\"text-align: right; direction: rtl; float: right; clear: both;\">\n",
    "    כעת יצרנו משתמש, ואנחנו יכולים לשנות את התכונות שלו.<br>\n",
    "    מבחינה מילולית, נהוג להגיד שיצרנו <dfn>מופע</dfn> (<dfn>Instance</dfn>) או <dfn>עצם</dfn> (אובייקט, <dfn>Object</dfn>) מסוג <var>User</var>, ששמו <var>user1</var>.<br>\n",
    "    השתמשנו לשם כך ב<dfn>מחלקה</dfn> בשם <var>User</var>.\n",
    "</p>"
   ]
  },
  {
   "cell_type": "markdown",
   "metadata": {},
   "source": [
    "<p style=\"text-align: right; direction: rtl; float: right; clear: both;\">\n",
    "    נשנה את תכונות המשתמש.<br>\n",
    "    כדי להתייחס לתכונה של מופע כלשהו בפייתון, נכתוב את שם המשתנה שמצביע למופע, נקודה, ואז שם התכונה.<br>\n",
    "    אם נרצה לשנות את התכונה – נבצע אליה השמה:\n",
    "</p>"
   ]
  },
  {
   "cell_type": "code",
   "execution_count": 5,
   "metadata": {},
   "outputs": [],
   "source": [
    "user1.first_name = \"Miles\"\n",
    "user1.last_name = \"Prower\"\n",
    "user1.age = 8\n",
    "user1.nickname = \"Tails\""
   ]
  },
  {
   "cell_type": "markdown",
   "metadata": {},
   "source": [
    "<p style=\"text-align: right; direction: rtl; float: right; clear: both;\">\n",
    "    נוכל לאחזר את התכונות הללו בקלות, באותה הצורה:\n",
    "</p>"
   ]
  },
  {
   "cell_type": "code",
   "execution_count": 6,
   "metadata": {},
   "outputs": [
    {
     "name": "stdout",
     "output_type": "stream",
     "text": [
      "8\n"
     ]
    }
   ],
   "source": [
    "print(user1.age)"
   ]
  },
  {
   "cell_type": "markdown",
   "metadata": {},
   "source": [
    "<p style=\"text-align: right; direction: rtl; float: right; clear: both;\">\n",
    "    ואם נבדוק מה הסוג של המשתנה <var>user1</var>, מצפה לנו הפתעה נחמדה:\n",
    "</p>"
   ]
  },
  {
   "cell_type": "code",
   "execution_count": 7,
   "metadata": {},
   "outputs": [
    {
     "data": {
      "text/plain": [
       "__main__.User"
      ]
     },
     "execution_count": 7,
     "metadata": {},
     "output_type": "execute_result"
    }
   ],
   "source": [
    "type(user1)"
   ]
  },
  {
   "cell_type": "markdown",
   "metadata": {},
   "source": [
    "<p style=\"text-align: right; direction: rtl; float: right; clear: both;\">\n",
    "    איזה יופי! המחלקה גרמה לכך ש־<var>User</var> הוא ממש סוג משתנה בפייתון עכשיו.<br>\n",
    "    קחו לעצמכם רגע להתפעל – יצרנו סוג משתנה חדש בפייתון!<br>\n",
    "    אם כך, המשתנה <var>user1</var> מצביע על מופע של משתמש, שסוגו <var>User</var>.\n",
    "</p>"
   ]
  },
  {
   "cell_type": "markdown",
   "metadata": {},
   "source": [
    "<p style=\"text-align: right; direction: rtl; float: right; clear: both;\">\n",
    "    ננסה ליצור מופע נוסף, הפעם של משתמש אחר:\n",
    "</p>"
   ]
  },
  {
   "cell_type": "code",
   "execution_count": 8,
   "metadata": {},
   "outputs": [],
   "source": [
    "user2 = User()\n",
    "user2.first_name = \"Harry\"\n",
    "user2.last_name = \"Potter\"\n",
    "user2.age = 39\n",
    "user2.nickname = \"BoyWhoLived1980\""
   ]
  },
  {
   "cell_type": "markdown",
   "metadata": {},
   "source": [
    "<p style=\"text-align: right; direction: rtl; float: right; clear: both;\">\n",
    "    ונשים לב ששני המופעים מתקיימים זה לצד זה, ולא דורסים את הערכים זה של זה:\n",
    "</p>"
   ]
  },
  {
   "cell_type": "code",
   "execution_count": 9,
   "metadata": {},
   "outputs": [
    {
     "name": "stdout",
     "output_type": "stream",
     "text": [
      "Miles Prower is 8 years old.\n",
      "Harry Potter is 39 years old.\n"
     ]
    }
   ],
   "source": [
    "print(f\"{user1.first_name} {user1.last_name} is {user1.age} years old.\")\n",
    "print(f\"{user2.first_name} {user2.last_name} is {user2.age} years old.\")"
   ]
  },
  {
   "cell_type": "markdown",
   "metadata": {},
   "source": [
    "<p style=\"text-align: right; direction: rtl; float: right; clear: both;\">\n",
    "    המצב הזה מתקיים כיוון שכל קריאה למחלקה <var>User</var> יוצרת מופע חדש של משתמש.<br>\n",
    "    כל אחד מהמופעים הוא ישות נפרדת שמתקיימת בזכות עצמה.\n",
    "</p>"
   ]
  },
  {
   "cell_type": "markdown",
   "metadata": {},
   "source": [
    "<div class=\"align-center\" style=\"display: flex; text-align: right; direction: rtl; clear: both;\">\n",
    "    <div style=\"display: flex; width: 10%; float: right; clear: both;\">\n",
    "        <img src=\"images/exercise.svg\" style=\"height: 50px !important;\" alt=\"תרגול\"> \n",
    "    </div>\n",
    "    <div style=\"width: 70%\">\n",
    "        <p style=\"text-align: right; direction: rtl; float: right; clear: both;\">\n",
    "            צרו מחלקה בשם <var>Point</var> שמייצגת נקודה.<br>\n",
    "            צרו 2 מופעים של נקודות: אחת בעלת <var>x</var> שערכו 3 ו־<var>y</var> שערכו 1, והשנייה בעלת <var>x</var> שערכו 4 ו־<var>y</var> שערכו 1.\n",
    "        </p>\n",
    "    </div>\n",
    "    <div style=\"display: flex; width: 20%; border-right: 0.1rem solid #A5A5A5; padding: 1rem 2rem;\">\n",
    "        <p style=\"text-align: center; direction: rtl; justify-content: center; align-items: center; clear: both;\">\n",
    "            <strong>חשוב!</strong><br>\n",
    "            פתרו לפני שתמשיכו!\n",
    "        </p>\n",
    "    </div>\n",
    "</div>"
   ]
  },
  {
   "cell_type": "code",
   "execution_count": 10,
   "metadata": {},
   "outputs": [],
   "source": [
    "class Point:\n",
    "    pass"
   ]
  },
  {
   "cell_type": "code",
   "execution_count": 13,
   "metadata": {},
   "outputs": [
    {
     "name": "stdout",
     "output_type": "stream",
     "text": [
      "(3,1) and (4,1)\n"
     ]
    }
   ],
   "source": [
    "point1 = Point()\n",
    "point1.x = 3\n",
    "point1.y = 1\n",
    "\n",
    "point2 = Point()\n",
    "point2.x = 4\n",
    "point2.y = 1\n",
    "\n",
    "print(f\"({point1.x},{point1.y}) and ({point2.x},{point2.y})\")"
   ]
  },
  {
   "cell_type": "markdown",
   "metadata": {},
   "source": [
    "<p style=\"text-align: right; direction: rtl; float: right; clear: both;\">\n",
    "    שמות מחלקה ייכתבו באות גדולה בתחילתם, כדי להבדילם מפונקציות וממשתנים רגילים.<br>\n",
    "    אם שם המחלקה מורכב מכמה מילים, האות הראשונה בכל מילה תהא אות גדולה. בשם לא יופיעו קווים תחתונים.<br>\n",
    "    לדוגמה, מחלקת <var>PopSong</var>.\n",
    "</p>"
   ]
  },
  {
   "cell_type": "markdown",
   "metadata": {},
   "source": [
    "### <span style=\"text-align: right; direction: rtl; float: right; clear: both;\">מחלקה עם פעולות</span>"
   ]
  },
  {
   "cell_type": "markdown",
   "metadata": {},
   "source": [
    "<p style=\"text-align: right; direction: rtl; float: right; clear: both;\">\n",
    "    יצירת מחלקה ריקה זה נחמד, אבל זה לא מרגיש שעשינו צעד מספיק משמעותי כדי לשפר את איכות הקוד מתחילת המחברת.<br>\n",
    "    לדוגמה, אם אנחנו רוצים להדפיס את הפרטים של משתמש מסוים, עדיין נצטרך לכתוב פונקציה כזו:\n",
    "</p>"
   ]
  },
  {
   "cell_type": "code",
   "execution_count": 14,
   "metadata": {},
   "outputs": [
    {
     "name": "stdout",
     "output_type": "stream",
     "text": [
      "BoyWhoLived1980 (Harry Potter) is 39 years old.\n"
     ]
    }
   ],
   "source": [
    "def describe_as_a_string(user):\n",
    "    full_name = f'{user.first_name} {user.last_name}'\n",
    "    return f'{user.nickname} ({full_name}) is {user.age} years old.'\n",
    "\n",
    "\n",
    "print(describe_as_a_string(user2))"
   ]
  },
  {
   "cell_type": "markdown",
   "metadata": {},
   "source": [
    "<p style=\"text-align: right; direction: rtl; float: right; clear: both;\">\n",
    "    הפונקציה עדיין מסתובבת לה חופשייה ולא מאוגדת תחת אף מבנה – וזה בדיוק המצב שניסינו למנוע.<br>\n",
    "    למזלנו הפתרון לבעיית איגוד הקוד הוא פשוט. נוכל להדביק את קוד הפונקציה תחת המחלקה <code>User</code>:\n",
    "</p>"
   ]
  },
  {
   "cell_type": "code",
   "execution_count": 15,
   "metadata": {},
   "outputs": [],
   "source": [
    "class User:\n",
    "    def describe_as_a_string(user):\n",
    "        full_name = f'{user.first_name} {user.last_name}'\n",
    "        return f'{user.nickname} ({full_name}) is {user.age} years old.'\n",
    "\n",
    "\n",
    "user3 = User()\n",
    "user3.first_name = \"Anthony John\"\n",
    "user3.last_name = \"Soprano\"\n",
    "user3.age = 61\n",
    "user3.nickname = \"Tony\""
   ]
  },
  {
   "cell_type": "markdown",
   "metadata": {},
   "source": [
    "<p style=\"text-align: right; direction: rtl; float: right; clear: both;\">\n",
    "    בתא שלמעלה הגדרנו את הפונקציה <var>describe_as_a_string</var> בתוך המחלקה <var>User</var>.<br>\n",
    "    פונקציה שמוגדרת בתוך מחלקה נקראת <dfn>פעולה</dfn> (<dfn>Method</dfn>), שם שניתן לה כדי לבדל אותה מילולית מפונקציה רגילה.\n",
    "</p>"
   ]
  },
  {
   "cell_type": "markdown",
   "metadata": {},
   "source": [
    "<p style=\"text-align: right; direction: rtl; float: right; clear: both;\">\n",
    "    למעשה, בתא שלמעלה הוספנו את הפעולה <var>describe_as_a_string</var> לשבלונה של המשתמש.<br>\n",
    "    מעכשיו, כל מופע חדש של משתמש יוכל לקרוא לפעולה <var>describe_as_a_string</var> בצורה הבאה:\n",
    "</p>"
   ]
  },
  {
   "cell_type": "code",
   "execution_count": 16,
   "metadata": {},
   "outputs": [
    {
     "data": {
      "text/plain": [
       "'Tony (Anthony John Soprano) is 61 years old.'"
      ]
     },
     "execution_count": 16,
     "metadata": {},
     "output_type": "execute_result"
    }
   ],
   "source": [
    "user3.describe_as_a_string()"
   ]
  },
  {
   "cell_type": "markdown",
   "metadata": {},
   "source": [
    "<p style=\"text-align: right; direction: rtl; float: right; clear: both;\">\n",
    "    חדי העין שמו ודאי לב למשהו מעט משונה בקריאה לפעולה <var>describe_as_a_string</var>.<br>\n",
    "    הפעולה מצפה לקבל פרמטר (קראנו לו <var>user</var>), אבל כשקראנו לה בתא האחרון לא העברנו לה אף ארגומנט!<br>\n",
    "</p>"
   ]
  },
  {
   "cell_type": "markdown",
   "metadata": {},
   "source": [
    "<p style=\"text-align: right; direction: rtl; float: right; clear: both;\">\n",
    "    זהו קסם ידוע ונחמד של מחלקות: כשמופע קורא לפעולה כלשהי – אותו מופע עצמו מועבר אוטומטית כארגומנט הראשון לפעולה.<br>\n",
    "    לדוגמה, בקריאה <code dir=\"ltr\">user3.describe_as_a_string()</code>, המופע <var>user3</var> הועבר לתוך הפרמטר <var>user</var> של <var>describe_as_a_string</var>.<br>\n",
    "</p>"
   ]
  },
  {
   "cell_type": "markdown",
   "metadata": {},
   "source": [
    "<p style=\"text-align: right; direction: rtl; float: right; clear: both;\">\n",
    "    המוסכמה היא לקרוא תמיד לפרמטר הקסום הזה, זה שהולך לקבל את המופע, בשם <var>self</var>.<br>\n",
    "    נשנה את ההגדרה שלנו בהתאם למוסכמה:\n",
    "</p>"
   ]
  },
  {
   "cell_type": "code",
   "execution_count": 17,
   "metadata": {},
   "outputs": [
    {
     "data": {
      "text/plain": [
       "'Tony (Anthony John Soprano) is 61 years old.'"
      ]
     },
     "execution_count": 17,
     "metadata": {},
     "output_type": "execute_result"
    }
   ],
   "source": [
    "class User:\n",
    "    def describe_as_a_string(self):\n",
    "        full_name = f'{self.first_name} {self.last_name}'\n",
    "        return f'{self.nickname} ({full_name}) is {self.age} years old.'\n",
    "\n",
    "\n",
    "user3 = User()\n",
    "user3.first_name = \"Anthony John\"\n",
    "user3.last_name = \"Soprano\"\n",
    "user3.age = 61\n",
    "user3.nickname = \"Tony\"\n",
    "user3.describe_as_a_string()"
   ]
  },
  {
   "cell_type": "markdown",
   "metadata": {},
   "source": [
    "<div class=\"align-center\" style=\"display: flex; text-align: right; direction: rtl;\">\n",
    "    <div style=\"display: flex; width: 10%; float: right; \">\n",
    "        <img src=\"images/warning.png\" style=\"height: 50px !important;\" alt=\"אזהרה!\"> \n",
    "    </div>\n",
    "    <div style=\"width: 90%\">\n",
    "        <p style=\"text-align: right; direction: rtl;\">\n",
    "            טעות נפוצה היא לשכוח לשים <var>self</var> כפרמטר הראשון בפעולות שנגדיר.\n",
    "        </p>\n",
    "    </div>\n",
    "</div>"
   ]
  },
  {
   "cell_type": "markdown",
   "metadata": {},
   "source": [
    "<div class=\"align-center\" style=\"display: flex; text-align: right; direction: rtl; clear: both;\">\n",
    "    <div style=\"display: flex; width: 10%; float: right; clear: both;\">\n",
    "        <img src=\"images/exercise.svg\" style=\"height: 50px !important;\" alt=\"תרגול\"> \n",
    "    </div>\n",
    "    <div style=\"width: 70%\">\n",
    "        <p style=\"text-align: right; direction: rtl; float: right; clear: both;\">\n",
    "            צרו פעולה בשם <var>describe_as_a_string</var> עבור מחלקת <var>Point</var> שיצרתם.<br>\n",
    "            הפעולה תחזיר מחרוזת בצורת <samp dir=\"ltr\">(x, y)</samp>.\n",
    "        </p>\n",
    "    </div>\n",
    "    <div style=\"display: flex; width: 20%; border-right: 0.1rem solid #A5A5A5; padding: 1rem 2rem;\">\n",
    "        <p style=\"text-align: center; direction: rtl; justify-content: center; align-items: center; clear: both;\">\n",
    "            <strong>חשוב!</strong><br>\n",
    "            פתרו לפני שתמשיכו!\n",
    "        </p>\n",
    "    </div>\n",
    "</div>"
   ]
  },
  {
   "cell_type": "code",
   "execution_count": 18,
   "metadata": {},
   "outputs": [
    {
     "data": {
      "text/plain": [
       "'(3,1)'"
      ]
     },
     "execution_count": 18,
     "metadata": {},
     "output_type": "execute_result"
    }
   ],
   "source": [
    "class Point:\n",
    "    def coordinates(self):\n",
    "        return f\"({point1.x},{point1.y})\"\n",
    "        \n",
    "        \n",
    "point1 = Point()\n",
    "point1.x = 3\n",
    "point1.y = 1\n",
    "point1.coordinates()"
   ]
  },
  {
   "cell_type": "markdown",
   "metadata": {},
   "source": [
    "### <span style=\"text-align: right; direction: rtl; float: right; clear: both;\">יצירת מופע</span>"
   ]
  },
  {
   "cell_type": "markdown",
   "metadata": {},
   "source": [
    "<p style=\"text-align: right; direction: rtl; float: right; clear: both;\">\n",
    "    הפיסה החסרה בפאזל היא יצירת המופע.<br>\n",
    "    אם נרצה ליצור משתמש חדש, עדיין נצטרך להציב בו תכונות אחת־אחת – וזה לא כזה כיף.<br>\n",
    "    נשדרג את עצמנו ונכתוב פונקציה שקוראת ל־<var>User</var> ויוצרת מופע עם כל התכונות שלו:<br>\n",
    "</p>"
   ]
  },
  {
   "cell_type": "code",
   "execution_count": 19,
   "metadata": {},
   "outputs": [
    {
     "name": "stdout",
     "output_type": "stream",
     "text": [
      "Daenerys Targaryen is 23 years old.\n"
     ]
    }
   ],
   "source": [
    "def create_user(first_name, last_name, nickname, current_age):\n",
    "    user = User()\n",
    "    user.first_name = first_name\n",
    "    user.last_name = last_name\n",
    "    user.nickname = nickname\n",
    "    user.age = current_age\n",
    "    return user\n",
    "\n",
    "\n",
    "user4 = create_user('Daenerys', 'Targaryen', 'Mhysa', 23)\n",
    "print(f\"{user4.first_name} {user4.last_name} is {user4.age} years old.\")"
   ]
  },
  {
   "cell_type": "markdown",
   "metadata": {},
   "source": [
    "<p style=\"text-align: right; direction: rtl; float: right; clear: both;\">\n",
    "    אבל הגדרה שכזו, כמו שכבר אמרנו, סותרת את כל הרעיון של מחלקות.<br>\n",
    "    הרי המטרה של מחלקות היא קיבוץ כל מה שקשור בניהול התכונות והפעולות תחת המחלקה.\n",
    "</p>"
   ]
  },
  {
   "cell_type": "markdown",
   "metadata": {},
   "source": [
    "<p style=\"text-align: right; direction: rtl; float: right; clear: both;\">\n",
    "     נעתיק את <var>create_user</var> לתוך מחלקת <var>User</var>, בשינויים קלים:    \n",
    "</p>\n",
    "<ol style=\"text-align: right; direction: rtl; float: right; clear: both;\">\n",
    "    <li>לא נשכח לשים את <var>self</var> כפרמטר ראשון בחתימת הפעולה.</li>\n",
    "    <li>כפי שראינו, פעולות במחלקה מקבלות מופע ועובדות ישירות עליו, ולכן נשמיט את השורות <code dir=\"ltr\">user = User()</code> ו־<code dir=\"ltr\">return user</code>.</li>\n",
    "</ol>"
   ]
  },
  {
   "cell_type": "code",
   "execution_count": 20,
   "metadata": {},
   "outputs": [],
   "source": [
    "class User:\n",
    "    def describe_as_a_string(self):\n",
    "        full_name = f'{self.first_name} {self.last_name}'\n",
    "        return f'{self.nickname} ({full_name}) is {self.age} years old.'\n",
    "\n",
    "    def create_user(self, first_name, last_name, nickname, current_age):\n",
    "        self.first_name = first_name\n",
    "        self.last_name = last_name\n",
    "        self.nickname = nickname\n",
    "        self.age = current_age"
   ]
  },
  {
   "cell_type": "markdown",
   "metadata": {},
   "source": [
    "<p style=\"text-align: right; direction: rtl; float: right; clear: both;\">\n",
    "    עכשיו נוכל ליצור משתמש חדש, בצורה החביבה והמקוצרת הבאה:\n",
    "</p>"
   ]
  },
  {
   "cell_type": "code",
   "execution_count": 21,
   "metadata": {},
   "outputs": [
    {
     "data": {
      "text/plain": [
       "'Mhysa (Daenerys Targaryen) is 23 years old.'"
      ]
     },
     "execution_count": 21,
     "metadata": {},
     "output_type": "execute_result"
    }
   ],
   "source": [
    "user4 = User()\n",
    "user4.create_user('Daenerys', 'Targaryen', 'Mhysa', 23)\n",
    "user4.describe_as_a_string()"
   ]
  },
  {
   "cell_type": "markdown",
   "metadata": {},
   "source": [
    "### <span style=\"text-align: right; direction: rtl; float: right; clear: both;\">תרגיל ביניים: מחלקת נקודות</span>"
   ]
  },
  {
   "cell_type": "markdown",
   "metadata": {},
   "source": [
    "<p style=\"text-align: right; direction: rtl; float: right; clear: both;\">\n",
    "    מינרווה מקגונגל יצאה לבילוי לילי בסמטת דיאגון,<br>\n",
    "    ואחרי לילה עמוס בשתיית שיכר בקלחת הרותחת, היא מעט מתקשה לחזור להוגוורטס.\n",
    "</p>"
   ]
  },
  {
   "cell_type": "markdown",
   "metadata": {},
   "source": [
    "<p style=\"text-align: right; direction: rtl; float: right; clear: both;\">\n",
    "    הוסיפו את הפעולות <var>create_point</var> ו־<var>distance</var> למחלקת הנקודה שיצרתם.<br>\n",
    "    הפעולה <var>create_point</var> תקבל כפרמטרים <var>x</var> ו־<var>y</var>, ותיצוק תוכן למופע שיצרתם.<br>\n",
    "    הפעולה <var>distance</var> תחזיר את המרחק של מקגונגל מהוגוורטס, הממוקם בנקודה <span dir=\"ltr\">(0, 0)</span>.\n",
    "</p>"
   ]
  },
  {
   "cell_type": "code",
   "execution_count": 38,
   "metadata": {},
   "outputs": [],
   "source": [
    "class Point:\n",
    "    def coordinates(self):\n",
    "        return f\"({self.x},{self.y})\"\n",
    "    \n",
    "    def create_point(self, x ,y):\n",
    "        self.x = x\n",
    "        self.y = y\n",
    "    \n",
    "    def distance(self):\n",
    "        distance_to_go = abs(self.x) + abs(self.y)\n",
    "        return distance_to_go\n",
    "        "
   ]
  },
  {
   "cell_type": "markdown",
   "metadata": {},
   "source": [
    "<p style=\"text-align: right; direction: rtl; float: right; clear: both;\">\n",
    "    נוסחת המרחק היא חיבור בין הערכים המוחלטים של נקודות ה־<var>x</var> וה־<var>y</var>.<br>\n",
    "    לדוגמה:\n",
    "</p>\n",
    "\n",
    "<ul style=\"text-align: right; direction: rtl; float: right; clear: both;\">\n",
    "    <li>המרחק מהנקודה <pre dir=\"ltr\" style=\"display: inline; margin: 0 0.5em;\">x = 5, y = 3</pre> הוא <samp>8</samp>.</li>\n",
    "    <li>המרחק מהנקודה <pre dir=\"ltr\" style=\"display: inline; margin: 0 0.5em;\">x = 0, y = 3</pre> הוא <samp>3</samp>.</li>\n",
    "    <li>המרחק מהנקודה <pre dir=\"ltr\" style=\"display: inline; margin: 0 0.5em;\">x = -3, y = 3</pre> הוא <samp>6</samp>.</li>\n",
    "    <li>המרחק מהנקודה <pre dir=\"ltr\" style=\"display: inline; margin: 0 0.5em;\">x = -5, y = 0</pre> הוא <samp>5</samp>.</li>\n",
    "    <li>המרחק מהנקודה <pre dir=\"ltr\" style=\"display: inline; margin: 0 0.5em;\">x = 0, y = 0</pre> הוא <samp>0</samp>.</li>\n",
    "</ul>"
   ]
  },
  {
   "cell_type": "markdown",
   "metadata": {},
   "source": [
    "<p style=\"text-align: right; direction: rtl; float: right; clear: both;\">\n",
    "    ודאו שהתוכנית שלכם מחזירה <samp dir=\"ltr\">Success!</samp> עבור הקוד הבא:\n",
    "</p>"
   ]
  },
  {
   "cell_type": "code",
   "execution_count": 39,
   "metadata": {},
   "outputs": [
    {
     "name": "stdout",
     "output_type": "stream",
     "text": [
      "Success!\n"
     ]
    }
   ],
   "source": [
    "current_location = Point()\n",
    "current_location.create_point(5, 3)\n",
    "if current_location.distance() == 8:\n",
    "    print(\"Success!\")"
   ]
  },
  {
   "cell_type": "markdown",
   "metadata": {},
   "source": [
    "### <span style=\"text-align: right; direction: rtl; float: right; clear: both;\">פעולות קסם</span>"
   ]
  },
  {
   "cell_type": "markdown",
   "metadata": {},
   "source": [
    "<p style=\"text-align: right; direction: rtl; float: right; clear: both;\">\n",
    "    כדי להקל אפילו עוד יותר על המלאכה, בפייתון יש <dfn>פעולות קסם</dfn> (<dfn>Magic Methods</dfn>).<br>\n",
    "    אלו פעולות עם שם מיוחד, שאם נגדיר אותן במחלקה, הן ישנו את ההתנהגות שלה או של המופעים הנוצרים בעזרתה.\n",
    "</p>"
   ]
  },
  {
   "cell_type": "markdown",
   "metadata": {},
   "source": [
    "<h4 style=\"text-align: right; direction: rtl; float: right; clear: both;\">הפעולה <code>__str__</code></h4>"
   ]
  },
  {
   "cell_type": "markdown",
   "metadata": {},
   "source": [
    "<p style=\"text-align: right; direction: rtl; float: right; clear: both;\">\n",
    "    נתחיל, לדוגמה, מהיכרות קצרה עם פעולת הקסם <code>__str__</code> (עם קו תחתון כפול, מימין ומשמאל לשם הפעולה).<br>\n",
    "    אם ננסה סתם ככה להמיר למחרוזת את <var>user4</var> שיצרנו קודם לכן, נקבל בהלה והיסטריה:"
   ]
  },
  {
   "cell_type": "code",
   "execution_count": 40,
   "metadata": {},
   "outputs": [
    {
     "data": {
      "text/plain": [
       "'<__main__.User object at 0x0000020E1E9F1E80>'"
      ]
     },
     "execution_count": 40,
     "metadata": {},
     "output_type": "execute_result"
    }
   ],
   "source": [
    "user4 = User()\n",
    "user4.create_user('Daenerys', 'Targaryen', 'Mhysa', 23)\n",
    "str(user4)"
   ]
  },
  {
   "cell_type": "markdown",
   "metadata": {},
   "source": [
    "<p style=\"text-align: right; direction: rtl; float: right; clear: both;\">\n",
    "    פייתון אמנם אומרת דברים נכונים, כמו שמדובר באובייקט (מופע) מהמחלקה <var>User</var> ואת הכתובת שלו בזיכרון, אבל זה לא באמת מועיל.<br>\n",
    "</p>"
   ]
  },
  {
   "cell_type": "markdown",
   "metadata": {},
   "source": [
    "<p style=\"text-align: right; direction: rtl; float: right; clear: both;\">\n",
    "    כיוון שפונקציית ההדפסה <var>print</var>, מאחורי הקלעים, מבקשת את צורת המחרוזת של הארגומנט שמועבר אליה,<br>\n",
    "    גם קריאה ל־<var>print</var> ישירות על <var>user4</var> תיצור את אותה תוצאה לא ססגונית:\n",
    "</p>"
   ]
  },
  {
   "cell_type": "code",
   "execution_count": 41,
   "metadata": {},
   "outputs": [
    {
     "name": "stdout",
     "output_type": "stream",
     "text": [
      "<__main__.User object at 0x0000020E1E9F1E80>\n"
     ]
    }
   ],
   "source": [
    "print(user4)"
   ]
  },
  {
   "cell_type": "markdown",
   "metadata": {},
   "source": [
    "<p style=\"text-align: right; direction: rtl; float: right; clear: both;\">\n",
    "    המחלקה שלנו, כמובן, כבר ערוכה להתמודד עם המצב.<br>\n",
    "    בזכות הפעולה <var>describe_as_a_string</var> שהגדרנו קודם לכן נוכל להדפיס את פרטי המשתמש בקלות יחסית:\n",
    "</p>"
   ]
  },
  {
   "cell_type": "code",
   "execution_count": 42,
   "metadata": {},
   "outputs": [
    {
     "name": "stdout",
     "output_type": "stream",
     "text": [
      "Mhysa (Daenerys Targaryen) is 23 years old.\n"
     ]
    }
   ],
   "source": [
    "print(user4.describe_as_a_string())"
   ]
  },
  {
   "cell_type": "markdown",
   "metadata": {},
   "source": [
    "<p style=\"text-align: right; direction: rtl; float: right; clear: both;\">\n",
    "    אבל יש דרך קלה עוד יותר!<br>\n",
    "    ניחשתם נכון – פעולת הקסם <code>__str__</code>.<br>\n",
    "    נחליף את השם של הפעולה <var>describe_as_a_string</var>, ל־<code>__str__</code>:\n",
    "</p>"
   ]
  },
  {
   "cell_type": "code",
   "execution_count": 43,
   "metadata": {},
   "outputs": [
    {
     "name": "stdout",
     "output_type": "stream",
     "text": [
      "Jimmy (James McNulty) is 49 years old.\n"
     ]
    }
   ],
   "source": [
    "class User:\n",
    "    def __str__(self):\n",
    "        full_name = f'{self.first_name} {self.last_name}'\n",
    "        return f'{self.nickname} ({full_name}) is {self.age} years old.'\n",
    "\n",
    "    def create_user(self, first_name, last_name, nickname, current_age):\n",
    "        self.first_name = first_name\n",
    "        self.last_name = last_name\n",
    "        self.nickname = nickname\n",
    "        self.age = current_age\n",
    "\n",
    "\n",
    "user5 = User()\n",
    "user5.create_user('James', 'McNulty', 'Jimmy', 49)\n",
    "print(user5)"
   ]
  },
  {
   "cell_type": "markdown",
   "metadata": {},
   "source": [
    "<p style=\"text-align: right; direction: rtl; float: right; clear: both;\">\n",
    "    ראו איזה קסם! עכשיו המרה של כל מופע מסוג <var>User</var> למחרוזת היא פעולה ממש פשוטה!<br>\n",
    "</p>"
   ]
  },
  {
   "cell_type": "markdown",
   "metadata": {},
   "source": [
    "<p style=\"text-align: right; direction: rtl; float: right; clear: both;\">\n",
    "    בתא שלמעלה, הגדרנו את פעולת הקסם <code>__str__</code>.<br>\n",
    "    הפעולה מקבלת כפרמטר את <var>self</var>, המופע שביקשנו להמיר למחרוזת,<br>\n",
    "    ומחזירה לנו מחרוזת שאנחנו הגדרנו כמחרוזת שמתארת את המופע.\n",
    "</p>"
   ]
  },
  {
   "cell_type": "markdown",
   "metadata": {},
   "source": [
    "<p style=\"text-align: right; direction: rtl; float: right; clear: both;\">\n",
    "    הגדרת פעולת הקסם <code>__str__</code> עבור מחלקה מסוימת מאפשרת לנו להמיר מופעים למחרוזות בצורה טבעית.\n",
    "</p>"
   ]
  },
  {
   "cell_type": "markdown",
   "metadata": {},
   "source": [
    "<h4 style=\"text-align: right; direction: rtl; float: right; clear: both;\">הפעולה <code>__init__</code></h4>"
   ]
  },
  {
   "cell_type": "markdown",
   "metadata": {},
   "source": [
    "<p style=\"text-align: right; direction: rtl; float: right; clear: both;\">\n",
    "    פעולת קסם חשובה אף יותר, ואולי המפורסמת ביותר, נקראת <code>__init__</code>.<br>\n",
    "    היא מאפשרת לנו להגדיר מה יקרה ברגע שניצור מופע חדש:\n",
    "</p>"
   ]
  },
  {
   "cell_type": "code",
   "execution_count": 44,
   "metadata": {},
   "outputs": [
    {
     "name": "stdout",
     "output_type": "stream",
     "text": [
      "New user has been created!\n",
      "Mick (Lorne Malvo) is 23 years old.\n"
     ]
    }
   ],
   "source": [
    "class User:\n",
    "    def __init__(self):\n",
    "        print(\"New user has been created!\")\n",
    "\n",
    "    def __str__(self):\n",
    "        full_name = f'{self.first_name} {self.last_name}'\n",
    "        return f'{self.nickname} ({full_name}) is {self.age} years old.'\n",
    "\n",
    "    def create_user(self, first_name, last_name, nickname, current_age):\n",
    "        self.first_name = first_name\n",
    "        self.last_name = last_name\n",
    "        self.nickname = nickname\n",
    "        self.age = current_age\n",
    "\n",
    "\n",
    "user5 = User()\n",
    "user5.create_user('Lorne', 'Malvo', 'Mick', 23)\n",
    "print(user5)"
   ]
  },
  {
   "cell_type": "markdown",
   "metadata": {},
   "source": [
    "<p style=\"text-align: right; direction: rtl; float: right; clear: both;\">\n",
    "    בדוגמת הקוד שלמעלה הגדרנו את פעולת הקסם <code>__init__</code>, שתרוץ מייד כשנוצר מופע חדש.<br>\n",
    "    החלטנו שברגע שייווצר מופע של משתמש, תודפס ההודעה <samp dir=\"ltr\">New user has been created!</samp>.\n",
    "</p>"
   ]
  },
  {
   "cell_type": "markdown",
   "metadata": {},
   "source": [
    "<p style=\"text-align: right; direction: rtl; float: right; clear: both;\">\n",
    "    הכיף הגדול ב־<code>__init__</code> הוא היכולת שלה לקבל פרמטרים.<br>\n",
    "    נוכל להעביר אליה את הארגומנטים בקריאה לשם המחלקה, בעת יצירת המופע 🤯\n",
    "</p>"
   ]
  },
  {
   "cell_type": "code",
   "execution_count": 45,
   "metadata": {},
   "outputs": [
    {
     "name": "stdout",
     "output_type": "stream",
     "text": [
      "New user has been created!\n",
      "Mick (Lorne Malvo) is 58 years old.\n",
      "We still have the message: New user has been created!\n"
     ]
    }
   ],
   "source": [
    "class User:\n",
    "    def __init__(self, message):\n",
    "        self.creation_message = message\n",
    "        print(self.creation_message)\n",
    "\n",
    "    def __str__(self):\n",
    "        full_name = f'{self.first_name} {self.last_name}'\n",
    "        return f'{self.nickname} ({full_name}) is {self.age} years old.'\n",
    "\n",
    "    def create_user(self, first_name, last_name, nickname, current_age):\n",
    "        self.first_name = first_name\n",
    "        self.last_name = last_name\n",
    "        self.nickname = nickname\n",
    "        self.age = current_age\n",
    "\n",
    "\n",
    "user5 = User(\"New user has been created!\")  # תראו איזה מגניב\n",
    "user5.create_user('Lorne', 'Malvo', 'Mick', 58)\n",
    "print(user5)\n",
    "print(f\"We still have the message: {user5.creation_message}\")"
   ]
  },
  {
   "cell_type": "markdown",
   "metadata": {},
   "source": [
    "<p style=\"text-align: right; direction: rtl; float: right; clear: both;\">\n",
    "    בתא שלמעלה הגדרנו שפעולת הקסם <code>__init__</code> תקבל כפרמטר הודעה להדפסה.<br>\n",
    "    ההודעה תישמר בתכונה <var>creation_message</var> השייכת למופע, ותודפס מייד לאחר מכן.<br>\n",
    "    את ההודעה העברנו כארגומנט בעת הקריאה לשם המחלקה, <var>User</var>, שיוצרת את המופע.\n",
    "</p>"
   ]
  },
  {
   "cell_type": "markdown",
   "metadata": {},
   "source": [
    "<p style=\"text-align: right; direction: rtl; float: right; clear: both;\">\n",
    "    ואם כבר יש לנו משהו שרץ כשאנחנו יוצרים את המופע... והוא יודע לקבל פרמטרים...<br>\n",
    "    אתם חושבים על מה שאני חושב?<br>\n",
    "    בואו נשנה את השם של <var>create_user</var> ל־<code>__init__</code>!<br>\n",
    "    בצורה הזו נוכל לצקת את התכונות למופע מייד עם יצירתו, ולוותר על קריאה נפרדת לפעולה שמטרתה למלא את הערכים:\n",
    "</p>"
   ]
  },
  {
   "cell_type": "code",
   "execution_count": 46,
   "metadata": {},
   "outputs": [
    {
     "name": "stdout",
     "output_type": "stream",
     "text": [
      "Yayy! We have just created a new instance! :D\n",
      "Mick (Lorne Malvo) is 58 years old.\n"
     ]
    }
   ],
   "source": [
    "class User:\n",
    "    def __init__(self, first_name, last_name, nickname, current_age):\n",
    "        self.first_name = first_name\n",
    "        self.last_name = last_name\n",
    "        self.nickname = nickname\n",
    "        self.age = current_age\n",
    "        print(\"Yayy! We have just created a new instance! :D\")\n",
    "\n",
    "    def __str__(self):\n",
    "        full_name = f'{self.first_name} {self.last_name}'\n",
    "        return f'{self.nickname} ({full_name}) is {self.age} years old.'\n",
    "\n",
    "\n",
    "user5 = User('Lorne', 'Malvo', 'Mick', 58)\n",
    "print(user5)"
   ]
  },
  {
   "cell_type": "markdown",
   "metadata": {},
   "source": [
    "<p style=\"text-align: right; direction: rtl; float: right; clear: both;\">\n",
    "    איגדנו את יצירת תכונות המופע תחת פעולה אחת, שרצה כשהוא נוצר.<br>\n",
    "    הרעיון הנפלא הזה נפוץ מאוד בשפות תכנות שתומכות במחלקות, ומוכרת בשם <dfn>פעולת אתחול</dfn> (<dfn>Initialization Method</dfn>).<br>\n",
    "    זו גם הסיבה לשם הפעולה – המילה init נגזרת מהמילה initialization, אתחול. \n",
    "</p>"
   ]
  },
  {
   "cell_type": "markdown",
   "metadata": {},
   "source": [
    "<div class=\"align-center\" style=\"display: flex; text-align: right; direction: rtl; clear: both;\">\n",
    "    <div style=\"display: flex; width: 10%; float: right; clear: both;\">\n",
    "        <img src=\"images/exercise.svg\" style=\"height: 50px !important;\" alt=\"תרגול\"> \n",
    "    </div>\n",
    "    <div style=\"width: 70%\">\n",
    "        <p style=\"text-align: right; direction: rtl; float: right; clear: both;\">\n",
    "            שפצו את מחלקת הנקודה שיצרתם, כך שתכיל <code>__init__</code> ו־<code>__str__</code>.\n",
    "        </p>\n",
    "    </div>\n",
    "    <div style=\"display: flex; width: 20%; border-right: 0.1rem solid #A5A5A5; padding: 1rem 2rem;\">\n",
    "        <p style=\"text-align: center; direction: rtl; justify-content: center; align-items: center; clear: both;\">\n",
    "            <strong>חשוב!</strong><br>\n",
    "            פתרו לפני שתמשיכו!\n",
    "        </p>\n",
    "    </div>\n",
    "</div>"
   ]
  },
  {
   "cell_type": "code",
   "execution_count": 52,
   "metadata": {},
   "outputs": [],
   "source": [
    "class Point:\n",
    "    def __str__(self):\n",
    "        return f\"({self.x},{self.y})\"\n",
    "    \n",
    "    def __init__(self, x ,y):\n",
    "        self.x = x\n",
    "        self.y = y\n",
    "    \n",
    "    def distance(self):\n",
    "        distance_to_go = abs(self.x) + abs(self.y)\n",
    "        return distance_to_go"
   ]
  },
  {
   "cell_type": "code",
   "execution_count": 53,
   "metadata": {},
   "outputs": [
    {
     "name": "stdout",
     "output_type": "stream",
     "text": [
      "(3,2)\n"
     ]
    }
   ],
   "source": [
    "point5 = Point(3,2)\n",
    "print(point5)"
   ]
  },
  {
   "cell_type": "markdown",
   "metadata": {},
   "source": [
    "### <span style=\"text-align: right; direction: rtl; float: right; clear: both;\">ייצור מסחרי</span>"
   ]
  },
  {
   "cell_type": "markdown",
   "metadata": {},
   "source": [
    "<p style=\"text-align: right; direction: rtl; float: right; clear: both;\">\n",
    "    צ'יקצ'וק שמה את ידה על פרטי המשתמשים של הרשת החברתית המתחרה, סניילצ'אט.<br>\n",
    "    רשימת המשתמשים נראית כך:\n",
    "</p>"
   ]
  },
  {
   "cell_type": "code",
   "execution_count": 54,
   "metadata": {},
   "outputs": [],
   "source": [
    "snailchat_users = [\n",
    "    ['Mike', 'Shugarberg', 'Marker', 36],\n",
    "    ['Hammer', 'Doorsoy', 'Tzweetz', 43],\n",
    "    ['Evan', 'Spygirl', 'Odd', 30],\n",
    "]"
   ]
  },
  {
   "cell_type": "markdown",
   "metadata": {},
   "source": [
    "<p style=\"text-align: right; direction: rtl; float: right; clear: both;\">\n",
    "    נניח, לכאורה בלבד, שאנחנו רוצים להעתיק את אותה רשימת משתמשים ולצרף אותה לרשת החברתית שלנו.<br>\n",
    "    קחו דקה וחשבו איך הייתם עושים את זה.\n",
    "</p>"
   ]
  },
  {
   "cell_type": "markdown",
   "metadata": {},
   "source": [
    "<p style=\"text-align: right; direction: rtl; float: right; clear: both;\">\n",
    "    זכרו שקריאה למחלקה <var>User</var> היא ככל קריאה לפונקציה אחרת,<br>\n",
    "    ושהמופע שחוזר ממנה הוא ערך בדיוק כמו כל ערך אחר.\n",
    "</p>"
   ]
  },
  {
   "cell_type": "markdown",
   "metadata": {},
   "source": [
    "<p style=\"text-align: right; direction: rtl; float: right; clear: both;\">\n",
    "    נוכל ליצור רשימת מופעים של משתמשים. לדוגמה:\n",
    "</p>"
   ]
  },
  {
   "cell_type": "code",
   "execution_count": 58,
   "metadata": {},
   "outputs": [
    {
     "name": "stdout",
     "output_type": "stream",
     "text": [
      "Yayy! We have just created a new instance! :D\n",
      "Marker (Mike Shugarberg) is 36 years old.\n",
      "Yayy! We have just created a new instance! :D\n",
      "Tzweetz (Hammer Doorsoy) is 43 years old.\n",
      "Yayy! We have just created a new instance! :D\n",
      "Odd (Evan Spygirl) is 30 years old.\n"
     ]
    }
   ],
   "source": [
    "our_users = []\n",
    "for user_details in snailchat_users:\n",
    "    new_user = User(*user_details)  # Unpacking – התא הראשון עובר לפרמטר התואם, וכך גם השני, השלישי והרביעי\n",
    "    our_users.append(new_user)\n",
    "    print(new_user)"
   ]
  },
  {
   "cell_type": "markdown",
   "metadata": {},
   "source": [
    "<p style=\"text-align: right; direction: rtl; float: right; clear: both;\">\n",
    "    בקוד שלמעלה יצרנו רשימה ריקה, שאותה נמלא במשתמשים <strike>שנגנוב</strike> שנשאיל מסניילצ'אט.<br>\n",
    "    נעביר את הפרטים של כל אחד מהמשתמשים המופיעים ב־<var>snailchat_users</var>, ל־<code>__init__</code> של <var>User</var>,<br>\n",
    "    ונצרף את המופע החדש שנוצר לתוך הרשימה החדשה שיצרנו.\n",
    "</p>"
   ]
  },
  {
   "cell_type": "markdown",
   "metadata": {},
   "source": [
    "<p style=\"text-align: right; direction: rtl; float: right; clear: both;\">\n",
    "    עכשיו הרשימה <var>our_users</var> היא רשימה לכל דבר, שכוללת את כל המשתמשים החדשים שהצטרפו לרשת החברתית שלנו:\n",
    "</p>"
   ]
  },
  {
   "cell_type": "code",
   "execution_count": 66,
   "metadata": {},
   "outputs": [
    {
     "name": "stdout",
     "output_type": "stream",
     "text": [
      "Marker (Mike Shugarberg) is 36 years old.\n",
      "Tzweetz (Hammer Doorsoy) is 43 years old.\n",
      "Odd (Evan Spygirl) is 30 years old.\n"
     ]
    }
   ],
   "source": [
    "print(our_users[0])\n",
    "print(our_users[1])\n",
    "print(our_users[2])"
   ]
  },
  {
   "cell_type": "markdown",
   "metadata": {},
   "source": [
    "<div class=\"align-center\" style=\"display: flex; text-align: right; direction: rtl; clear: both;\">\n",
    "    <div style=\"display: flex; width: 10%; float: right; clear: both;\">\n",
    "        <img src=\"images/exercise.svg\" style=\"height: 50px !important;\" alt=\"תרגול\"> \n",
    "    </div>\n",
    "    <div style=\"width: 70%\">\n",
    "        <p style=\"text-align: right; direction: rtl; float: right; clear: both;\">\n",
    "            צרו את רשימת כל הנקודות שה־x וה־y שלהן הוא מספר שלם בין 0 ל־6.<br>\n",
    "            לדוגמה, רשימת כל הנקודות שה־x וה־y שלהן הוא בין 0 ל־2 היא:<br>\n",
    "            <samp dir=\"ltr\">[(0, 0), (0, 1), (1, 0), (1, 1), (0, 2), (1, 2), (2, 0), (2, 1), (2, 2)]</samp>\n",
    "        </p>\n",
    "    </div>\n",
    "    <div style=\"display: flex; width: 20%; border-right: 0.1rem solid #A5A5A5; padding: 1rem 2rem;\">\n",
    "        <p style=\"text-align: center; direction: rtl; justify-content: center; align-items: center; clear: both;\">\n",
    "            <strong>חשוב!</strong><br>\n",
    "            פתרו לפני שתמשיכו!\n",
    "        </p>\n",
    "    </div>\n",
    "</div>"
   ]
  },
  {
   "cell_type": "code",
   "execution_count": 64,
   "metadata": {},
   "outputs": [
    {
     "name": "stdout",
     "output_type": "stream",
     "text": [
      "(0,0)\n",
      "(0,1)\n",
      "(0,2)\n",
      "(0,3)\n",
      "(0,4)\n",
      "(0,5)\n",
      "(0,6)\n",
      "(1,0)\n",
      "(1,1)\n",
      "(1,2)\n",
      "(1,3)\n",
      "(1,4)\n",
      "(1,5)\n",
      "(1,6)\n",
      "(2,0)\n",
      "(2,1)\n",
      "(2,2)\n",
      "(2,3)\n",
      "(2,4)\n",
      "(2,5)\n",
      "(2,6)\n",
      "(3,0)\n",
      "(3,1)\n",
      "(3,2)\n",
      "(3,3)\n",
      "(3,4)\n",
      "(3,5)\n",
      "(3,6)\n",
      "(4,0)\n",
      "(4,1)\n",
      "(4,2)\n",
      "(4,3)\n",
      "(4,4)\n",
      "(4,5)\n",
      "(4,6)\n",
      "(5,0)\n",
      "(5,1)\n",
      "(5,2)\n",
      "(5,3)\n",
      "(5,4)\n",
      "(5,5)\n",
      "(5,6)\n",
      "(6,0)\n",
      "(6,1)\n",
      "(6,2)\n",
      "(6,3)\n",
      "(6,4)\n",
      "(6,5)\n",
      "(6,6)\n"
     ]
    }
   ],
   "source": [
    "our_points = []\n",
    "for x in range(0,7):\n",
    "    for y in range(0,7):\n",
    "        new_point = Point(x,y)\n",
    "        our_points.append(new_point)\n",
    "        print(new_point)\n",
    "        "
   ]
  },
  {
   "cell_type": "markdown",
   "metadata": {},
   "source": [
    "## <span style=\"text-align: right; direction: rtl; float: right; clear: both;\">טעויות נפוצות</span>"
   ]
  },
  {
   "cell_type": "markdown",
   "metadata": {},
   "source": [
    "### <span style=\"text-align: right; direction: rtl; float: right; clear: both;\">גבולות מרחב הערכים</span>"
   ]
  },
  {
   "cell_type": "markdown",
   "metadata": {},
   "source": [
    "<p style=\"text-align: right; direction: rtl; float: right; clear: both;\">\n",
    "    נסקור כמה דוגמאות כדי לוודא שבאמת הבנו כיצד מתנהגות מחלקות.<br>\n",
    "    נגדיר את מחלקת <var>User</var> שאנחנו מכירים, ונצרף לה את הפעולה <var>celebrate_birthday</var>, שכזכור, מגדילה את גיל המשתמש ב־1:\n",
    "</p>"
   ]
  },
  {
   "cell_type": "code",
   "execution_count": 67,
   "metadata": {},
   "outputs": [],
   "source": [
    "class User:\n",
    "    def __init__(self, first_name, last_name, nickname, current_age):\n",
    "        self.first_name = first_name\n",
    "        self.last_name = last_name\n",
    "        self.nickname = nickname\n",
    "        self.age = current_age\n",
    "    \n",
    "    def celebrate_birthday(self):\n",
    "        age = age + 1\n",
    "\n",
    "    def __str__(self):\n",
    "        full_name = f'{self.first_name} {self.last_name}'\n",
    "        return f'{self.nickname} ({full_name}) is {self.age} years old.'"
   ]
  },
  {
   "cell_type": "markdown",
   "metadata": {},
   "source": [
    "<p style=\"text-align: right; direction: rtl; float: right; clear: both;\">\n",
    "    ניסיון ליצור מופע של משתמש ולחגוג לו יום הולדת יגרום לשגיאה.<br>\n",
    "    תוכלו לנחש מה תהיה השגיאה עוד לפני שתריצו?\n",
    "</p>"
   ]
  },
  {
   "cell_type": "code",
   "execution_count": 68,
   "metadata": {},
   "outputs": [
    {
     "ename": "UnboundLocalError",
     "evalue": "local variable 'age' referenced before assignment",
     "output_type": "error",
     "traceback": [
      "\u001b[1;31m---------------------------------------------------------------------------\u001b[0m",
      "\u001b[1;31mUnboundLocalError\u001b[0m                         Traceback (most recent call last)",
      "\u001b[1;32m<ipython-input-68-ae49c50fae57>\u001b[0m in \u001b[0;36m<module>\u001b[1;34m\u001b[0m\n\u001b[0;32m      1\u001b[0m \u001b[0muser6\u001b[0m \u001b[1;33m=\u001b[0m  \u001b[0mUser\u001b[0m\u001b[1;33m(\u001b[0m\u001b[1;34m'Winston'\u001b[0m\u001b[1;33m,\u001b[0m \u001b[1;34m'Smith'\u001b[0m\u001b[1;33m,\u001b[0m \u001b[1;34m'Jeeves'\u001b[0m\u001b[1;33m,\u001b[0m \u001b[1;36m39\u001b[0m\u001b[1;33m)\u001b[0m\u001b[1;33m\u001b[0m\u001b[1;33m\u001b[0m\u001b[0m\n\u001b[1;32m----> 2\u001b[1;33m \u001b[0muser6\u001b[0m\u001b[1;33m.\u001b[0m\u001b[0mcelebrate_birthday\u001b[0m\u001b[1;33m(\u001b[0m\u001b[1;33m)\u001b[0m\u001b[1;33m\u001b[0m\u001b[1;33m\u001b[0m\u001b[0m\n\u001b[0m",
      "\u001b[1;32m<ipython-input-67-91ba5ca84b2b>\u001b[0m in \u001b[0;36mcelebrate_birthday\u001b[1;34m(self)\u001b[0m\n\u001b[0;32m      7\u001b[0m \u001b[1;33m\u001b[0m\u001b[0m\n\u001b[0;32m      8\u001b[0m     \u001b[1;32mdef\u001b[0m \u001b[0mcelebrate_birthday\u001b[0m\u001b[1;33m(\u001b[0m\u001b[0mself\u001b[0m\u001b[1;33m)\u001b[0m\u001b[1;33m:\u001b[0m\u001b[1;33m\u001b[0m\u001b[1;33m\u001b[0m\u001b[0m\n\u001b[1;32m----> 9\u001b[1;33m         \u001b[0mage\u001b[0m \u001b[1;33m=\u001b[0m \u001b[0mage\u001b[0m \u001b[1;33m+\u001b[0m \u001b[1;36m1\u001b[0m\u001b[1;33m\u001b[0m\u001b[1;33m\u001b[0m\u001b[0m\n\u001b[0m\u001b[0;32m     10\u001b[0m \u001b[1;33m\u001b[0m\u001b[0m\n\u001b[0;32m     11\u001b[0m     \u001b[1;32mdef\u001b[0m \u001b[0m__str__\u001b[0m\u001b[1;33m(\u001b[0m\u001b[0mself\u001b[0m\u001b[1;33m)\u001b[0m\u001b[1;33m:\u001b[0m\u001b[1;33m\u001b[0m\u001b[1;33m\u001b[0m\u001b[0m\n",
      "\u001b[1;31mUnboundLocalError\u001b[0m: local variable 'age' referenced before assignment"
     ]
    }
   ],
   "source": [
    "user6 =  User('Winston', 'Smith', 'Jeeves', 39)\n",
    "user6.celebrate_birthday()"
   ]
  },
  {
   "cell_type": "markdown",
   "metadata": {},
   "source": [
    "<p style=\"text-align: right; direction: rtl; float: right; clear: both;\">\n",
    "    ניסינו לשנות את המשתנה <var>age</var> – אך הוא אינו מוגדר.<br>\n",
    "    כדי לשנות את הגיל של המשתמש שיצרנו, נהיה חייבים להתייחס ל־<code>self.age</code>.<br>\n",
    "    אם לא נציין במפורש שאנחנו רוצים לשנות את התכונה <var>age</var> ששייכת ל־<var>self</var>, פייתון לא תדע לאיזה מופע אנחנו מתכוונים.<br>\n",
    "    נתקן:\n",
    "</p>"
   ]
  },
  {
   "cell_type": "code",
   "execution_count": 69,
   "metadata": {},
   "outputs": [
    {
     "name": "stdout",
     "output_type": "stream",
     "text": [
      "User before birthday: Jeeves (Winston Smith) is 39 years old.\n",
      "User after  birthday: Jeeves (Winston Smith) is 40 years old.\n"
     ]
    }
   ],
   "source": [
    "class User:\n",
    "    def __init__(self, first_name, last_name, nickname, current_age):\n",
    "        self.first_name = first_name\n",
    "        self.last_name = last_name\n",
    "        self.nickname = nickname\n",
    "        self.age = current_age\n",
    "    \n",
    "    def celebrate_birthday(self):\n",
    "        self.age = self.age + 1\n",
    "\n",
    "    def __str__(self):\n",
    "        full_name = f'{self.first_name} {self.last_name}'\n",
    "        return f'{self.nickname} ({full_name}) is {self.age} years old.'\n",
    "\n",
    "\n",
    "user6 =  User('Winston', 'Smith', 'Jeeves', 39)\n",
    "print(f\"User before birthday: {user6}\")\n",
    "user6.celebrate_birthday()\n",
    "print(f\"User after  birthday: {user6}\")"
   ]
  },
  {
   "cell_type": "markdown",
   "metadata": {},
   "source": [
    "<p style=\"text-align: right; direction: rtl; float: right; clear: both;\">\n",
    "    באותה המידה, תכונות שהוגדרו כחלק ממופע לא מוגדרות מחוצה לו.<br>\n",
    "    אפשר להשתמש, לדוגמה, בשם המשתנה <var>age</var> מבלי לחשוש לפגוע בתפקוד המחלקה או בתפקוד המופעים:\n",
    "</p>"
   ]
  },
  {
   "cell_type": "code",
   "execution_count": 70,
   "metadata": {},
   "outputs": [
    {
     "name": "stdout",
     "output_type": "stream",
     "text": [
      "Jeeves (Winston Smith) is 39 years old.\n",
      "Jeeves (Winston Smith) is 39 years old.\n"
     ]
    }
   ],
   "source": [
    "user6 =  User('Winston', 'Smith', 'Jeeves', 39)\n",
    "print(user6)\n",
    "age = 10\n",
    "print(user6)"
   ]
  },
  {
   "cell_type": "markdown",
   "metadata": {},
   "source": [
    "<p style=\"text-align: right; direction: rtl; float: right; clear: both;\">\n",
    "    כדי לשנות את גילו של המשתמש, נצטרך להתייחס אל התכונה שלו בצורת הכתיבה שלמדנו:\n",
    "</p>"
   ]
  },
  {
   "cell_type": "code",
   "execution_count": 71,
   "metadata": {},
   "outputs": [
    {
     "name": "stdout",
     "output_type": "stream",
     "text": [
      "Jeeves (Winston Smith) is 10 years old.\n"
     ]
    }
   ],
   "source": [
    "user6.age = 10\n",
    "print(user6)"
   ]
  },
  {
   "cell_type": "markdown",
   "metadata": {},
   "source": [
    "### <span style=\"text-align: right; direction: rtl; float: right; clear: both;\">תכונה או פעולה שלא קיימות</span>"
   ]
  },
  {
   "cell_type": "markdown",
   "metadata": {},
   "source": [
    "<p style=\"text-align: right; direction: rtl; float: right; clear: both;\">\n",
    "    שגיאה שמתרחשת לא מעט היא פנייה לתכונה או לפעולה שלא קיימות עבור המופע.<br>\n",
    "    לדוגמה:\n",
    "</p>"
   ]
  },
  {
   "cell_type": "code",
   "execution_count": 72,
   "metadata": {},
   "outputs": [],
   "source": [
    "class Dice:\n",
    "    def __init__(self, number):\n",
    "        if 1 <= number <= 6:\n",
    "            self.is_valid = True\n",
    "\n",
    "\n",
    "dice_bag = [Dice(roll_result) for roll_result in range(7)]"
   ]
  },
  {
   "cell_type": "markdown",
   "metadata": {},
   "source": [
    "<p style=\"text-align: right; direction: rtl; float: right; clear: both;\">\n",
    "    יצרנו רשימת קוביות וביצענו השמה כך ש־<var>dice_bag</var> תצביע עליה.<br>\n",
    "    כעת נדפיס את התכונה <var>is_valid</var> של כל אחת מהקוביות:\n",
    "</p>"
   ]
  },
  {
   "cell_type": "code",
   "execution_count": 73,
   "metadata": {},
   "outputs": [
    {
     "ename": "AttributeError",
     "evalue": "'Dice' object has no attribute 'is_valid'",
     "output_type": "error",
     "traceback": [
      "\u001b[1;31m---------------------------------------------------------------------------\u001b[0m",
      "\u001b[1;31mAttributeError\u001b[0m                            Traceback (most recent call last)",
      "\u001b[1;32m<ipython-input-73-bd31bdcae3d1>\u001b[0m in \u001b[0;36m<module>\u001b[1;34m\u001b[0m\n\u001b[0;32m      1\u001b[0m \u001b[1;32mfor\u001b[0m \u001b[0mdice\u001b[0m \u001b[1;32min\u001b[0m \u001b[0mdice_bag\u001b[0m\u001b[1;33m:\u001b[0m\u001b[1;33m\u001b[0m\u001b[1;33m\u001b[0m\u001b[0m\n\u001b[1;32m----> 2\u001b[1;33m     \u001b[0mprint\u001b[0m\u001b[1;33m(\u001b[0m\u001b[0mdice\u001b[0m\u001b[1;33m.\u001b[0m\u001b[0mis_valid\u001b[0m\u001b[1;33m)\u001b[0m\u001b[1;33m\u001b[0m\u001b[1;33m\u001b[0m\u001b[0m\n\u001b[0m",
      "\u001b[1;31mAttributeError\u001b[0m: 'Dice' object has no attribute 'is_valid'"
     ]
    }
   ],
   "source": [
    "for dice in dice_bag:\n",
    "    print(dice.is_valid)"
   ]
  },
  {
   "cell_type": "markdown",
   "metadata": {},
   "source": [
    "<p style=\"text-align: right; direction: rtl; float: right; clear: both;\">\n",
    "    הבעיה היא שהקוביה הראשונה שיצרנו קיבלה את המספר 0.<br>\n",
    "    במקרה כזה, התנאי בפעולת האתחול (<code>__init__</code>) לא יתקיים, והתכונה <var>is_valid</var> לא תוגדר.<br>\n",
    "    כשהלולאה תגיע לקובייה 0 ותנסה לגשת לתכונה <var>is_valid</var>, נגלה שהיא לא קיימת עבור הקובייה 0, ונקבל <var>AttributeError</var>.\n",
    "</p>"
   ]
  },
  {
   "cell_type": "markdown",
   "metadata": {},
   "source": [
    "<p style=\"text-align: right; direction: rtl; float: right; clear: both;\">\n",
    "    נתקן:\n",
    "</p>"
   ]
  },
  {
   "cell_type": "code",
   "execution_count": 74,
   "metadata": {},
   "outputs": [
    {
     "name": "stdout",
     "output_type": "stream",
     "text": [
      "False\n",
      "True\n",
      "True\n",
      "True\n",
      "True\n",
      "True\n",
      "True\n"
     ]
    }
   ],
   "source": [
    "class Dice:\n",
    "    def __init__(self, number):\n",
    "        self.is_valid = (1 <= number <= 6)  # לא חייבים סוגריים\n",
    "\n",
    "\n",
    "dice_bag = [Dice(roll_result) for roll_result in range(7)]\n",
    "for dice in dice_bag:\n",
    "    print(dice.is_valid)"
   ]
  },
  {
   "cell_type": "markdown",
   "metadata": {},
   "source": [
    "## <span style=\"text-align: right; direction: rtl; float: right; clear: both;\">סיכום</span>"
   ]
  },
  {
   "cell_type": "markdown",
   "metadata": {},
   "source": [
    "<p style=\"text-align: right; direction: rtl; float: right; clear: both;\">\n",
    "    במחברת זו רכשנו כלים לעבודה עם מחלקות ועצמים, ולייצוג אוספים של תכונות ופעולות.<br>\n",
    "    כלים אלו יעזרו לנו לארגן טוב יותר את התוכנית שלנו ולייצג ישויות מהעולם האמיתי בצורה אינטואיטיבית יותר.\n",
    "</p>"
   ]
  },
  {
   "cell_type": "markdown",
   "metadata": {},
   "source": [
    "<p style=\"text-align: right; direction: rtl; float: right; clear: both;\">\n",
    "    נהוג לכנות את עולם המחלקות בשם \"<dfn>תכנות מונחה עצמים</dfn>\" (<dfn>Object Oriented Programming</dfn>, או <dfn>OOP</dfn>).<br>\n",
    "    זו פרדיגמת תכנות הדוגלת ביצירת מחלקות לצורך חלוקת קוד טובה יותר,<br>\n",
    "    ובתיאור עצמים מהעולם האמיתי בצורה טובה יותר, כאוספים של תכונות ופעולות.\n",
    "</p>"
   ]
  },
  {
   "cell_type": "markdown",
   "metadata": {},
   "source": [
    "<p style=\"text-align: right; direction: rtl; float: right; clear: both;\">\n",
    "    תכנות מונחה עצמים הוא פיתוח מאוחר יותר של פרדיגמת תכנות אחרת שאתם כבר מכירים, הנקראת \"<dfn>תכנות פרוצדורלי</dfn>\".<br>\n",
    "    פרדיגמה זו דוגלת בחלוקת הקוד לתתי־תוכניות קטנות (מה שאתם מכירים כפונקציות), כדי ליצור קוד שמחולק טוב יותר וקל יותר לתחזוק.\n",
    "</p>"
   ]
  },
  {
   "cell_type": "markdown",
   "metadata": {},
   "source": [
    "<p style=\"text-align: right; direction: rtl; float: right; clear: both;\">\n",
    "    פייתון תומכת הן בתכנות פרוצדורלי והן בתכנות מונחה עצמים.\n",
    "</p>"
   ]
  },
  {
   "cell_type": "markdown",
   "metadata": {},
   "source": [
    "## <span style=\"text-align: right; direction: rtl; float: right; clear: both;\">מונחים</span>"
   ]
  },
  {
   "cell_type": "markdown",
   "metadata": {},
   "source": [
    "<dl style=\"text-align: right; direction: rtl; float: right; clear: both;\">\n",
    "    <dt>מחלקה (Class)</dt>\n",
    "    <dd>\n",
    "        תבנית, או שבלונה, שמתארת אוסף של תכונות ופעולות שיש ביניהן קשר.<br>\n",
    "        המחלקה מגדירה מבנה שבעזרתו נוכל ליצור בקלות עצם מוגדר, שוב ושוב.<br>\n",
    "        לדוגמה: מחלקה המתארת משתמש ברשת חברתית, מחלקה המתארת כלי רכב, מחלקה המתארת נקודה במישור.\n",
    "    </dd>\n",
    "    <dt>מופע (Instance)</dt>\n",
    "    <dd>\n",
    "        נקרא גם <dfn>עצם</dfn> (<dfn>Object</dfn>).<br>\n",
    "        ערך שנוצר על ידי מחלקה כלשהי. סוג הערך ייקבע לפי המחלקה שיצרה אותו.<br>\n",
    "        הערך נוצר לפי התבנית (\"השבלונה\") של המחלקה שממנה הוא נוצר, ומוצמדות לו הפעולות שהוגדרו במחלקה.<br>\n",
    "        המופע הוא יחידה עצמאית שעומדת בפני עצמה. לרוב מחלקה תשמש אותנו ליצירת מופעים רבים.<br>\n",
    "        לדוגמה: המופע \"נקודה שנמצאת ב־<span dir=\"ltr\">(5, 3)</span>\" יהיה מופע שנוצר מהמחלקה \"נקודה\". \n",
    "    </dd>\n",
    "    <dt>תכונה (Property, Member)</dt>\n",
    "    <dd>\n",
    "        ערך אופייני למופע שנוצר מהמחלקה.<br>\n",
    "        משתנים השייכים למופע שנוצר מהמחלקה, ומכילים ערכים שמתארים אותו.<br>\n",
    "        לדוגמה: לנקודה במישור יש ערך x וערך y. אלו 2 תכונות של הנקודה.<br>\n",
    "        נוכל להחליט שתכונותיה של מחלקת מכונית יהיו צבע, דגם ויצרן.\n",
    "    </dd>\n",
    "    <dt>פעולה (Method)</dt>\n",
    "    <dd>\n",
    "        פונקציה שמוגדרת בגוף המחלקה.<br>\n",
    "        מתארת התנהגויות אפשריות של המופע שייווצר מהמחלקה.<br>\n",
    "        לדוגמה: פעולה על נקודה במישור יכולה להיות מציאת מרחקה מראשית הצירים.<br>\n",
    "        פעולה על שולחן יכולה להיות \"קצץ 5 סנטימטר מגובהו\".\n",
    "    </dd>\n",
    "    <dt>שדה (Field, Attribute)</dt>\n",
    "    <dd>\n",
    "        שם כללי הנועד לתאר תכונה או פעולה.<br>\n",
    "        שדות של מופע מסוים יהיו כלל התכונות והפעולות שאפשר לגשת אליהן מאותו מופע.<br>\n",
    "        לדוגמה: השדות של נקודה יהיו התכונות x ו־y, והפעולה שבודקת את מרחקה מראשית הצירים.\n",
    "    </dd>\n",
    "    <dt>פעולה מיוחדת (Special Method)</dt>\n",
    "    <dd>\n",
    "        ידועה גם כ־<dfn>dunder method</dfn> (double under, קו תחתון כפול) או כ־<dfn>magic method</dfn> (פעולת קסם).<br>\n",
    "        פעולה שהגדרתה במחלקה גורמת למחלקה או למופעים הנוצרים ממנה להתנהגות מיוחדת.<br>\n",
    "        דוגמאות לפעולות שכאלו הן <code>__init__</code> ו־<code>__str__</code>.\n",
    "    </dd>\n",
    "    <dt>פעולת אתחול (Initialization Method)</dt>\n",
    "    <dd>\n",
    "        פעולה שרצה עם יצירת מופע חדש מתוך מחלקה.<br>\n",
    "        לרוב משתמשים בפעולה זו כדי להזין במופע ערכים התחלתיים.\n",
    "    </dd>\n",
    "    <dt>תכנות מונחה עצמים (Object Oriented Programming)</dt>\n",
    "    <dd>\n",
    "        פרדיגמת תכנות שמשתמשת במחלקות בקוד ככלי העיקרי להפשטה של העולם האמיתי.<br>\n",
    "        בפרדיגמה זו נהוג ליצור מחלקות המייצגות תבניות של עצמים, ולאפיין את העצמים באמצעות תכונות ופעולות.<br>\n",
    "        בעזרת המחלקות אפשר ליצור מופעים, שהם ייצוג של פריט בודד (עצם, אובייקט) שנוצר לפי תבנית המחלקה.\n",
    "    </dd>\n",
    "</dl>"
   ]
  },
  {
   "cell_type": "markdown",
   "metadata": {},
   "source": [
    "## <span style=\"text-align: right; direction: rtl; float: right; clear: both;\">תרגיל לדוגמה</span>"
   ]
  },
  {
   "cell_type": "markdown",
   "metadata": {},
   "source": [
    "<p style=\"text-align: right; direction: rtl; float: right; clear: both;\">\n",
    "    כתבו מחלקה המייצגת נתיב תקין במערכת ההפעלה חלונות.<br>\n",
    "    הנתיב מחולק לחלקים באמצעות התו / או התו \\.<br>\n",
    "    החלק הראשון בנתיב הוא תמיד אות הכונן ואחריה נקודתיים.<br>\n",
    "    החלקים שנמצאים אחרי החלק הראשון, ככל שיש כאלו, הם תיקיות וקבצים.<br>\n",
    "    דוגמאות לנתיבים תקינים:\n",
    "</p>"
   ]
  },
  {
   "cell_type": "markdown",
   "metadata": {},
   "source": [
    "  <ul style=\"text-align: right; direction: rtl; float: right; clear: both;\">\n",
    "    <li><span dir=\"ltr\">C:\\Users\\Yam\\python.jpg</span></li>\n",
    "    <li><span dir=\"ltr\">C:/Users/Yam/python.jpg</span></li>\n",
    "    <li><span dir=\"ltr\">C:</span></li>\n",
    "    <li><span dir=\"ltr\">C:\\</span></li>\n",
    "    <li><span dir=\"ltr\">C:/</span></li>\n",
    "    <li><span dir=\"ltr\">C:\\User/</span></li>\n",
    "    <li><span dir=\"ltr\">D:/User/</span></li>\n",
    "    <li><span dir=\"ltr\">C:/User</span></li>\n",
    "  </ul>"
   ]
  },
  {
   "cell_type": "markdown",
   "metadata": {},
   "source": [
    "<p style=\"text-align: right; direction: rtl; float: right; clear: both;\">\n",
    "    המחלקה תכלול את הפעולות הבאות:\n",
    "</p>\n",
    "<ul style=\"text-align: right; direction: rtl; float: right; clear: both;\">\n",
    "    <li>אחזר את אות הכונן בעזרת הפעולה <var>get_drive_letter</var>.</li>\n",
    "    <li>אחזר את הנתיב ללא חלקו האחרון בעזרת הפעולה <var>get_dirname</var>.</li>\n",
    "    <li>אחזר את שם החלק האחרון בנתיב, בעזרת הפעולה <var>get_basename</var>.</li>\n",
    "    <li>אחזר את סיומת הקובץ בעזרת הפעולה <var>get_extension</var>.</li>\n",
    "    <li>אחזר אם הנתיב קיים במחשב בעזרת הפעולה <var>is_exists</var>.</li>\n",
    "    <li>אחזר את הנתיב כולו כמחרוזת, כשהתו המפריד הוא <samp>/</samp>, וללא <samp>/</samp> בסוף הנתיב.</li>\n",
    "</ul>"
   ]
  },
  {
   "cell_type": "code",
   "execution_count": 75,
   "metadata": {},
   "outputs": [
    {
     "name": "stdout",
     "output_type": "stream",
     "text": [
      "Some info about \"C:\\Users\\Yam\\python.jpg\":\n",
      "            Drive letter: C\n",
      "            Dirname: C:\\Users\\Yam\n",
      "            Last part of path: python.jpg\n",
      "            File extension: jpg\n",
      "            Is exists?: False\n",
      "\n",
      "Some info about \"C:\\Users\\Yam\\python.jpg\":\n",
      "            Drive letter: C\n",
      "            Dirname: C:\\Users\\Yam\n",
      "            Last part of path: python.jpg\n",
      "            File extension: jpg\n",
      "            Is exists?: False\n",
      "\n",
      "Some info about \"C:\":\n",
      "            Drive letter: C\n",
      "            Dirname: \n",
      "            Last part of path: C:\n",
      "            File extension: \n",
      "            Is exists?: True\n",
      "\n",
      "Some info about \"C:\":\n",
      "            Drive letter: C\n",
      "            Dirname: C:\n",
      "            Last part of path: \n",
      "            File extension: \n",
      "            Is exists?: True\n",
      "\n",
      "Some info about \"C:\":\n",
      "            Drive letter: C\n",
      "            Dirname: \n",
      "            Last part of path: C:\n",
      "            File extension: \n",
      "            Is exists?: True\n",
      "\n",
      "Some info about \"C:\\Users\":\n",
      "            Drive letter: C\n",
      "            Dirname: C:\n",
      "            Last part of path: Users\n",
      "            File extension: \n",
      "            Is exists?: True\n",
      "\n",
      "Some info about \"D:\\Users\":\n",
      "            Drive letter: D\n",
      "            Dirname: D:\n",
      "            Last part of path: Users\n",
      "            File extension: \n",
      "            Is exists?: False\n",
      "\n",
      "Some info about \"C:\\Users\":\n",
      "            Drive letter: C\n",
      "            Dirname: C:\n",
      "            Last part of path: Users\n",
      "            File extension: \n",
      "            Is exists?: True\n",
      "\n"
     ]
    }
   ],
   "source": [
    "import os\n",
    "\n",
    "\n",
    "class Path:\n",
    "    def __init__(self, path):\n",
    "        self.fullpath = path\n",
    "        self.parts = list(self.get_parts())\n",
    "\n",
    "    def get_parts(self):\n",
    "        current_part = \"\"\n",
    "        for char in self.fullpath:\n",
    "            if char in r\"\\/\":\n",
    "                yield current_part\n",
    "                current_part = \"\"\n",
    "            else:\n",
    "                current_part = current_part + char\n",
    "        if current_part != \"\":\n",
    "            yield current_part\n",
    "\n",
    "    def get_drive_letter(self):\n",
    "        return self.parts[0].rstrip(\":\")\n",
    "\n",
    "    def get_dirname(self):\n",
    "        path = \"/\".join(self.parts[:-1])\n",
    "        return Path(path)\n",
    "\n",
    "    def get_basename(self):\n",
    "        return self.parts[-1]\n",
    "\n",
    "    def get_extension(self):\n",
    "        name = self.get_basename()\n",
    "        i = name.rfind('.')\n",
    "        if 0 < i < len(name) - 1:\n",
    "            return name[i + 1:]\n",
    "        return ''\n",
    "\n",
    "    def is_exists(self):\n",
    "        return os.path.exists(str(self))\n",
    "\n",
    "    def normalize_path(self):\n",
    "        normalized = \"\\\\\".join(self.parts)\n",
    "        return normalized.rstrip(\"\\\\\")\n",
    "\n",
    "    def info_message(self):\n",
    "        return f\"\"\"\n",
    "            Some info about \"{self}\":\n",
    "            Drive letter: {self.get_drive_letter()}\n",
    "            Dirname: {self.get_dirname()}\n",
    "            Last part of path: {self.get_basename()}\n",
    "            File extension: {self.get_extension()}\n",
    "            Is exists?: {self.is_exists()}\n",
    "        \"\"\".strip()\n",
    "\n",
    "    def __str__(self):\n",
    "        return self.normalize_path()\n",
    "\n",
    "\n",
    "EXAMPLES = (\n",
    "    r\"C:\\Users\\Yam\\python.jpg\",\n",
    "    r\"C:/Users/Yam/python.jpg\",\n",
    "    r\"C:\",\n",
    "    r\"C:\\\\\",\n",
    "    r\"C:/\",\n",
    "    r\"C:\\Users/\",\n",
    "    r\"D:/Users/\",\n",
    "    r\"C:/Users\",\n",
    ")\n",
    "for example in EXAMPLES:\n",
    "    path = Path(example)\n",
    "    print(path.info_message())\n",
    "    print()"
   ]
  },
  {
   "cell_type": "markdown",
   "metadata": {},
   "source": [
    "## <span style=\"text-align: right; direction: rtl; float: right; clear: both;\">תרגילים</span>"
   ]
  },
  {
   "cell_type": "markdown",
   "metadata": {},
   "source": [
    "### <span style=\"text-align: right; direction: rtl; float: right; clear: both;\">סקרנות</span>"
   ]
  },
  {
   "cell_type": "markdown",
   "metadata": {},
   "source": [
    "<p style=\"text-align: right; direction: rtl; float: right; clear: both;\">\n",
    "    מחלקת המוצר בצ'יקצ'וק החליטה להוסיף פיצ'ר שמאפשר למשתמשים ליצור סקרים, וכרגיל כל העבודה נופלת עליכם.<br>\n",
    "    כתבו מחלקה בשם <var>Poll</var> שמייצגת סקר.<br>\n",
    "    פעולת האתחול של המחלקה תקבל כפרמטר את שאלת הסקר, וכפרמטר נוסף iterable עם כל אפשרויות ההצבעה לסקר.<br>\n",
    "    כל אפשרות הצבעה בסקר מיוצגת על ידי מחרוזת.<br>\n",
    "    המחלקה תכיל את הפעולות הבאות: \n",
    "</p>"
   ]
  },
  {
   "cell_type": "markdown",
   "metadata": {},
   "source": [
    "<ol style=\"text-align: right; direction: rtl; float: right; clear: both;\">\n",
    "    <li><var>vote</var> שמקבלת כפרמטר אפשרות הצבעה לסקר ומגדילה את מספר ההצבעות בו ב־1.</li>\n",
    "    <li><var>add_option</var>, שמקבלת כפרמטר אפשרות הצבעה לסקר ומוסיפה אותה.</li>\n",
    "    <li><var>remove_option</var> שמקבלת כפרמטר אפשרות הצבעה לסקר ומוחקת אותה.</li>\n",
    "    <li><var>get_votes</var> המחזירה את כל האפשרויות כרשימה של tuple, המסודרים לפי כמות ההצבעות.<br>\n",
    "        בכל tuple התא הראשון יהיה שם האפשרות בסקר, והתא השני יהיה מספר ההצבעות.</li>\n",
    "    <li><var>get_winner</var> המחזירה את שם האפשרות שקיבלה את מרב ההצבעות.</li>\n",
    "</ol>"
   ]
  },
  {
   "cell_type": "code",
   "execution_count": 76,
   "metadata": {},
   "outputs": [
    {
     "name": "stdout",
     "output_type": "stream",
     "text": [
      "{'q': 2, 'e': 3}\n"
     ]
    }
   ],
   "source": [
    "my_dict = {\"q\":2, \"e\":3, \"f\":8}\n",
    "del my_dict['f']\n",
    "print(my_dict)"
   ]
  },
  {
   "cell_type": "code",
   "execution_count": 160,
   "metadata": {},
   "outputs": [],
   "source": [
    "class Poll:\n",
    "    def __init__(self, survey_question, iterable):\n",
    "        options = {}\n",
    "        for option in iterable:\n",
    "            options[option] = 0\n",
    "        self.survey_question = survey_question\n",
    "        self.options = options \n",
    "        \n",
    "    def vote(self, option):\n",
    "        if option in self.options.keys():\n",
    "            self.options[option]+=1\n",
    "            return True\n",
    "        return False\n",
    "    \n",
    "    def add_option(self, option):\n",
    "        if option not in self.options.keys():\n",
    "            self.options[option] = 0\n",
    "            return True\n",
    "        return False\n",
    "\n",
    "    def remove_option(self, option):\n",
    "        if option in self.options.keys():\n",
    "            del self.options[option]\n",
    "            return True\n",
    "        return False\n",
    "\n",
    "    def get_votes(self):\n",
    "        list_of_tuples = []\n",
    "        for item in self.options.items():\n",
    "            list_of_tuples.append(item)\n",
    "        list_of_tuples.sort(key=lambda x:x[1], reverse=True)\n",
    "        return list_of_tuples\n",
    "    \n",
    "    def get_winner(self):\n",
    "        list_of_tupless = []\n",
    "        list_of_tupless = self.get_votes()\n",
    "        return list_of_tupless[0][0]"
   ]
  },
  {
   "cell_type": "markdown",
   "metadata": {},
   "source": [
    "<p style=\"text-align: right; direction: rtl; float: right; clear: both;\">\n",
    "    במקרה של תיקו, החזירו מ־<var>get_winner</var> את אחת האפשרויות המובילות.<br>\n",
    "    החזירו מהפעולות <var>vote</var>, <var>add_option</var> ו־<var>remove_option</var> את הערך <samp>True</samp> אם הפעולה עבדה כמצופה.<br> \n",
    "    במקרה של הצבעה לאפשרות שאינה קיימת, מחיקת אפשרות שאינה קיימת או הוספת אפשרות שכבר קיימת, החזירו <samp>False</samp>.<br>\n",
    "</p>"
   ]
  },
  {
   "cell_type": "markdown",
   "metadata": {},
   "source": [
    "<p style=\"text-align: right; direction: rtl; float: right; clear: both;\">\n",
    "ודאו שהקוד הבא מדפיס רק <samp>True</samp> עבור התוכנית שכתבתם:\n",
    "</p>"
   ]
  },
  {
   "cell_type": "code",
   "execution_count": 161,
   "metadata": {},
   "outputs": [
    {
     "name": "stdout",
     "output_type": "stream",
     "text": [
      "True\n",
      "True\n",
      "True\n",
      "True\n",
      "True\n",
      "True\n",
      "True\n",
      "True\n"
     ]
    }
   ],
   "source": [
    "def cast_multiple_votes(poll, votes):\n",
    "    for vote in votes:\n",
    "        poll.vote(vote)\n",
    "\n",
    "\n",
    "bridge_question = Poll('What is your favourite colour?', ['Blue', 'Yellow'])\n",
    "cast_multiple_votes(bridge_question, ['Blue', 'Blue', 'Yellow'])\n",
    "print(bridge_question.get_winner() == 'Blue')\n",
    "cast_multiple_votes(bridge_question, ['Yellow', 'Yellow'])\n",
    "print(bridge_question.get_winner() == 'Yellow')\n",
    "print(bridge_question.get_votes() == [('Yellow', 3), ('Blue', 2)])\n",
    "bridge_question.remove_option('Yellow')\n",
    "print(bridge_question.get_winner() == 'Blue')\n",
    "print(bridge_question.get_votes() == [('Blue', 2)])\n",
    "bridge_question.add_option('Yellow')\n",
    "print(bridge_question.get_votes() == [('Blue', 2), ('Yellow', 0)])\n",
    "print(not bridge_question.add_option('Blue'))\n",
    "print(bridge_question.get_votes() == [('Blue', 2), ('Yellow', 0)])"
   ]
  },
  {
   "cell_type": "markdown",
   "metadata": {},
   "source": [
    "### <span style=\"text-align: right; direction: rtl; float: right; clear: both;\">משחקי הרעב</span>"
   ]
  },
  {
   "cell_type": "markdown",
   "metadata": {},
   "source": [
    "<p style=\"text-align: right; direction: rtl; float: right; clear: both;\">\n",
    "    קטניס אוורדין הלכה לאיבוד באיזו זירה מעצבנת, ועכשיו היא מחפשת את הסניף הקרוב של אבו־חסן למנה משולשת ראויה.<br>\n",
    "</p>"
   ]
  },
  {
   "cell_type": "markdown",
   "metadata": {},
   "source": [
    "<p style=\"text-align: right; direction: rtl; float: right; clear: both;\">\n",
    "    צורת הזירה היא משולש שקודקודיו <span dir=\"ltr\">(0, 0)</span>, <span dir=\"ltr\">(2, 2)</span> ו־<span dir=\"ltr\">(4, 0)</span>.<br>\n",
    "    קטניס מתחילה מאחד הקודקודים ומחליטה על הצעד הבא שלה כך:<br>\n",
    "    \n",
    "</p>"
   ]
  },
  {
   "cell_type": "markdown",
   "metadata": {},
   "source": [
    "<ol style=\"text-align: right; direction: rtl; float: right; clear: both;\">\n",
    "    <li>היא בוחרת אקראית באחד מקודקודי הזירה.</li>\n",
    "    <li>היא הולכת מהמקום שבו היא נמצאת את מחצית הדרך עד לקודקוד שבחרה.</li>\n",
    "    <li>היא מסמנת על המפה את הנקודה שהגיעה אליה.</li>\n",
    "</ol>"
   ]
  },
  {
   "cell_type": "markdown",
   "metadata": {},
   "source": [
    "<p style=\"text-align: right; direction: rtl; float: right; clear: both;\">\n",
    "    כתבו פעולה בשם <var>plot_walks</var>, שמקבלת כפרמטר את מספר הצעדים של קטניס.<br>\n",
    "    הפעולה תצייר מפת נקודות בגודל 4 על 4, שכל נקודה בה מציינת מקום שקטניס סימנה במפה שלה.<br>\n",
    "</p>"
   ]
  },
  {
   "cell_type": "markdown",
   "metadata": {},
   "source": [
    "<p style=\"text-align: right; direction: rtl; float: right; clear: both;\">\n",
    "    השתמשו במנועי חיפוש כדי לקרוא על פעולות קסם שיכולות לעזור לכם, ועל מודולים לשרטוט גרפים.<br>\n",
    "    שימו לב שנקודות יכולות להיות ממוקמות על x ו־y עשרוניים.\n",
    "</p>"
   ]
  },
  {
   "cell_type": "code",
   "execution_count": 215,
   "metadata": {},
   "outputs": [],
   "source": [
    "from matplotlib import pyplot as plt\n",
    "import random\n",
    "\n",
    "def road(steps):\n",
    "    vertices = [(0,0), (2,2), (4,0)]\n",
    "    x = [0, ]\n",
    "    y = [0, ]\n",
    "    current_point = (0,0)\n",
    "    for i in range(steps):\n",
    "        next_point = random.choice(vertices)\n",
    "        mid_point = ((current_point[0]+next_point[0])/2, (current_point[1]+next_point[1])/2)\n",
    "        x.append(mid_point[0])\n",
    "        y.append(mid_point[1])\n",
    "        current_point = mid_point\n",
    "    plt.xlim(0, 4)\n",
    "    plt.ylim(0, 4)\n",
    "    plt.grid()\n",
    "    plt.plot(x, y, marker=\"o\", markersize=10, markerfacecolor=\"green\")\n",
    "    plt.show()"
   ]
  },
  {
   "cell_type": "code",
   "execution_count": 216,
   "metadata": {},
   "outputs": [
    {
     "data": {
      "image/png": "[encoded data removed]",
      "text/plain": [
       "<Figure size 432x288 with 1 Axes>"
      ]
     },
     "metadata": {
      "needs_background": "light"
     },
     "output_type": "display_data"
    }
   ],
   "source": [
    "road(4)"
   ]
  },
  {
   "cell_type": "code",
   "execution_count": null,
   "metadata": {},
   "outputs": [],
   "source": []
  }
 ],
 "metadata": {
  "kernelspec": {
   "display_name": "Python 3",
   "language": "python",
   "name": "python3"
  },
  "language_info": {
   "codemirror_mode": {
    "name": "ipython",
    "version": 3
   },
   "file_extension": ".py",
   "mimetype": "text/x-python",
   "name": "python",
   "nbconvert_exporter": "python",
   "pygments_lexer": "ipython3",
   "version": "3.8.5"
  }
 },
 "nbformat": 4,
 "nbformat_minor": 2
}
